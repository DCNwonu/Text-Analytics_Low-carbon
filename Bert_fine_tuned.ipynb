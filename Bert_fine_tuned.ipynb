{
  "cells": [
    {
      "cell_type": "markdown",
      "metadata": {
        "id": "view-in-github",
        "colab_type": "text"
      },
      "source": [
        "<a href=\"https://colab.research.google.com/github/DCNwonu/Text-Analytics_Low-carbon/blob/main/Bert_fine_tuned.ipynb\" target=\"_parent\"><img src=\"https://colab.research.google.com/assets/colab-badge.svg\" alt=\"Open In Colab\"/></a>"
      ]
    },
    {
      "cell_type": "markdown",
      "source": [
        "BERT code with clustering (PCA) ML for Extractive summarisation with fine tuning (fine_tuned weights are deployed)"
      ],
      "metadata": {
        "id": "ExWXb0qRRWcV"
      }
    },
    {
      "cell_type": "code",
      "source": [
        "!pip install transformers\n",
        "!pip install keras\n",
        "!pip install torch\n",
        "\n",
        "import numpy as np\n",
        "import pandas as pd\n",
        "import nltk\n",
        "import torch\n",
        "import transformers as ppb\n",
        "from sklearn.metrics import accuracy_score\n",
        "from keras.preprocessing.sequence import pad_sequences\n",
        "from torch.utils.data import DataLoader, TensorDataset\n",
        "import torch.optim as optim\n",
        "from torch.nn import CrossEntropyLoss\n",
        "from tqdm import tqdm\n",
        "nltk.download('punkt')\n",
        "from nltk import sent_tokenize\n",
        "\n"
      ],
      "metadata": {
        "id": "Bxr5HC94DZUF",
        "outputId": "534f781a-d975-43f5-dbf4-4fbb2031a1d3",
        "colab": {
          "base_uri": "https://localhost:8080/"
        }
      },
      "execution_count": 1,
      "outputs": [
        {
          "output_type": "stream",
          "name": "stdout",
          "text": [
            "Requirement already satisfied: transformers in /usr/local/lib/python3.10/dist-packages (4.44.2)\n",
            "Requirement already satisfied: filelock in /usr/local/lib/python3.10/dist-packages (from transformers) (3.16.1)\n",
            "Requirement already satisfied: huggingface-hub<1.0,>=0.23.2 in /usr/local/lib/python3.10/dist-packages (from transformers) (0.24.7)\n",
            "Requirement already satisfied: numpy>=1.17 in /usr/local/lib/python3.10/dist-packages (from transformers) (1.26.4)\n",
            "Requirement already satisfied: packaging>=20.0 in /usr/local/lib/python3.10/dist-packages (from transformers) (24.1)\n",
            "Requirement already satisfied: pyyaml>=5.1 in /usr/local/lib/python3.10/dist-packages (from transformers) (6.0.2)\n",
            "Requirement already satisfied: regex!=2019.12.17 in /usr/local/lib/python3.10/dist-packages (from transformers) (2024.9.11)\n",
            "Requirement already satisfied: requests in /usr/local/lib/python3.10/dist-packages (from transformers) (2.32.3)\n",
            "Requirement already satisfied: safetensors>=0.4.1 in /usr/local/lib/python3.10/dist-packages (from transformers) (0.4.5)\n",
            "Requirement already satisfied: tokenizers<0.20,>=0.19 in /usr/local/lib/python3.10/dist-packages (from transformers) (0.19.1)\n",
            "Requirement already satisfied: tqdm>=4.27 in /usr/local/lib/python3.10/dist-packages (from transformers) (4.66.5)\n",
            "Requirement already satisfied: fsspec>=2023.5.0 in /usr/local/lib/python3.10/dist-packages (from huggingface-hub<1.0,>=0.23.2->transformers) (2024.6.1)\n",
            "Requirement already satisfied: typing-extensions>=3.7.4.3 in /usr/local/lib/python3.10/dist-packages (from huggingface-hub<1.0,>=0.23.2->transformers) (4.12.2)\n",
            "Requirement already satisfied: charset-normalizer<4,>=2 in /usr/local/lib/python3.10/dist-packages (from requests->transformers) (3.4.0)\n",
            "Requirement already satisfied: idna<4,>=2.5 in /usr/local/lib/python3.10/dist-packages (from requests->transformers) (3.10)\n",
            "Requirement already satisfied: urllib3<3,>=1.21.1 in /usr/local/lib/python3.10/dist-packages (from requests->transformers) (2.2.3)\n",
            "Requirement already satisfied: certifi>=2017.4.17 in /usr/local/lib/python3.10/dist-packages (from requests->transformers) (2024.8.30)\n",
            "Requirement already satisfied: keras in /usr/local/lib/python3.10/dist-packages (3.4.1)\n",
            "Requirement already satisfied: absl-py in /usr/local/lib/python3.10/dist-packages (from keras) (1.4.0)\n",
            "Requirement already satisfied: numpy in /usr/local/lib/python3.10/dist-packages (from keras) (1.26.4)\n",
            "Requirement already satisfied: rich in /usr/local/lib/python3.10/dist-packages (from keras) (13.9.2)\n",
            "Requirement already satisfied: namex in /usr/local/lib/python3.10/dist-packages (from keras) (0.0.8)\n",
            "Requirement already satisfied: h5py in /usr/local/lib/python3.10/dist-packages (from keras) (3.11.0)\n",
            "Requirement already satisfied: optree in /usr/local/lib/python3.10/dist-packages (from keras) (0.13.0)\n",
            "Requirement already satisfied: ml-dtypes in /usr/local/lib/python3.10/dist-packages (from keras) (0.4.1)\n",
            "Requirement already satisfied: packaging in /usr/local/lib/python3.10/dist-packages (from keras) (24.1)\n",
            "Requirement already satisfied: typing-extensions>=4.5.0 in /usr/local/lib/python3.10/dist-packages (from optree->keras) (4.12.2)\n",
            "Requirement already satisfied: markdown-it-py>=2.2.0 in /usr/local/lib/python3.10/dist-packages (from rich->keras) (3.0.0)\n",
            "Requirement already satisfied: pygments<3.0.0,>=2.13.0 in /usr/local/lib/python3.10/dist-packages (from rich->keras) (2.18.0)\n",
            "Requirement already satisfied: mdurl~=0.1 in /usr/local/lib/python3.10/dist-packages (from markdown-it-py>=2.2.0->rich->keras) (0.1.2)\n",
            "Requirement already satisfied: torch in /usr/local/lib/python3.10/dist-packages (2.4.1+cu121)\n",
            "Requirement already satisfied: filelock in /usr/local/lib/python3.10/dist-packages (from torch) (3.16.1)\n",
            "Requirement already satisfied: typing-extensions>=4.8.0 in /usr/local/lib/python3.10/dist-packages (from torch) (4.12.2)\n",
            "Requirement already satisfied: sympy in /usr/local/lib/python3.10/dist-packages (from torch) (1.13.3)\n",
            "Requirement already satisfied: networkx in /usr/local/lib/python3.10/dist-packages (from torch) (3.4.1)\n",
            "Requirement already satisfied: jinja2 in /usr/local/lib/python3.10/dist-packages (from torch) (3.1.4)\n",
            "Requirement already satisfied: fsspec in /usr/local/lib/python3.10/dist-packages (from torch) (2024.6.1)\n",
            "Requirement already satisfied: MarkupSafe>=2.0 in /usr/local/lib/python3.10/dist-packages (from jinja2->torch) (3.0.1)\n",
            "Requirement already satisfied: mpmath<1.4,>=1.1.0 in /usr/local/lib/python3.10/dist-packages (from sympy->torch) (1.3.0)\n"
          ]
        },
        {
          "output_type": "stream",
          "name": "stderr",
          "text": [
            "[nltk_data] Downloading package punkt to /root/nltk_data...\n",
            "[nltk_data]   Unzipping tokenizers/punkt.zip.\n"
          ]
        }
      ]
    },
    {
      "cell_type": "code",
      "source": [
        "# Set up BERT tokenizer and model (no pretrained weights)\n",
        "model_class, tokenizer_class, pretrained_weights = (ppb.BertForSequenceClassification, ppb.BertTokenizer, 'bert-base-uncased')\n",
        "tokenizer = tokenizer_class.from_pretrained(pretrained_weights)\n",
        "model = model_class.from_pretrained(pretrained_weights, num_labels=2)\n"
      ],
      "metadata": {
        "id": "8O_4OixZFmpx",
        "outputId": "edc054cb-1abb-4e99-f300-bbadb601ac19",
        "colab": {
          "base_uri": "https://localhost:8080/",
          "height": 371,
          "referenced_widgets": [
            "991f9b6637aa40998721453040d11948",
            "bb13b0385fd042a690e7739ab1ab099a",
            "6f5385fbc3194113875fd492f1206511",
            "643bad4d0d8743fdabc662198104cd5a",
            "12f892ccb3d440bd8854b9492005d6bb",
            "eea4024ec2a94029bf0fb2eef830277c",
            "e390fcf8368f4891bf89e2869d31c2d4",
            "4c50ca71934645c5b3adb7e1ac1c69c9",
            "8226516329da41d0afde11923749a2d9",
            "baffe57e971b4cbfa2a39f62f3054b78",
            "7020927dd3c0467094dca85afdf34d23",
            "7afaa1c2ef324fa1bd179ba7e86d30de",
            "af8c46f5cd394a79ad81f7e2a39862bb",
            "8905e91c6d184293bf0ae2ec0eb5982d",
            "ec2c0287ecfe4cd6963859ad7be97dff",
            "616c36340b9442e99689acf3fb314431",
            "c25f65bcdf2340cfa3b856049c7c0207",
            "e51369b26f9747b09cd56c719dad569b",
            "fbf2e1b6f2a44146b33d6123e7d02eb7",
            "468b4e012f7b4cbe888daae74f7f2f24",
            "99ad009ccf19434694dc53d0182fa1d2",
            "53e79a1607034d2eb4fbd7dfe15ceb2c",
            "eb613bfcbbc94baaa447f82572b408de",
            "5860f969f42e4dac8dcfd0ec08684463",
            "99cd4d8760514a67bf783697ec23fa70",
            "1b734fc7522040929c97f175bc0cdf98",
            "1d44221d8aec442ba650e0e67f14fd53",
            "440b3f67e0224b39a528056adb78c6b2",
            "3d9894059af74248aef0b892908d1314",
            "6330ea1a164f4ac98d742d9f3f6f35b0",
            "d1790dc88a474e0c8e1fdc02e4abcf8b",
            "35a9c65f86434a309217495c57c2f0e4",
            "b623c4efea984749910bcb36b3b7b9fe",
            "65ddd668dd184a2287c91ccfe6d5a246",
            "fdfaa1c101f041008cc010c75b09f98d",
            "015c1f2f8ef449cc9b0efdba3b4d674b",
            "40a737a17da84b92b0a5fb15084a3675",
            "6f3d0156e2b5431f95dd41fdc840e3f6",
            "8645bea92bae4a84b4ee9f4b4099bca3",
            "ccb5b9931e8142279d047586a059aec0",
            "244c1834bfed48a6a641734db105806b",
            "e417147a8af64b799799c2b6db2b922e",
            "57b76ec98a9647e08c5f80e0f3eda1ce",
            "95b1ebd6ff9547a0b0304327b95d3e50",
            "762d8f4af22d4463a90a8d6e226c006b",
            "07c05765af4843c49f8fed89fecfa4be",
            "4d1de9b5198c4bdfbc7170163f816207",
            "5a8eb8fe754a49f58202c0785fcce21b",
            "e1f2af2f7fc84b0d8450c610a7cc0e9d",
            "254432f337684ff0b7bfe2328a729e53",
            "f054eb91da72450b964ec24176defd7f",
            "22c96cfa0c0847c28b07b800945d1a1d",
            "78123e2ed6ec4fe4a9b16c1bf7915e95",
            "71e3a10613004dd1b12144335e32e13a",
            "ebf28fcee9ee4c48b8f94d8299a8a4b2"
          ]
        }
      },
      "execution_count": 2,
      "outputs": [
        {
          "output_type": "stream",
          "name": "stderr",
          "text": [
            "/usr/local/lib/python3.10/dist-packages/huggingface_hub/utils/_token.py:89: UserWarning: \n",
            "The secret `HF_TOKEN` does not exist in your Colab secrets.\n",
            "To authenticate with the Hugging Face Hub, create a token in your settings tab (https://huggingface.co/settings/tokens), set it as secret in your Google Colab and restart your session.\n",
            "You will be able to reuse this secret in all of your notebooks.\n",
            "Please note that authentication is recommended but still optional to access public models or datasets.\n",
            "  warnings.warn(\n"
          ]
        },
        {
          "output_type": "display_data",
          "data": {
            "text/plain": [
              "tokenizer_config.json:   0%|          | 0.00/48.0 [00:00<?, ?B/s]"
            ],
            "application/vnd.jupyter.widget-view+json": {
              "version_major": 2,
              "version_minor": 0,
              "model_id": "991f9b6637aa40998721453040d11948"
            }
          },
          "metadata": {}
        },
        {
          "output_type": "display_data",
          "data": {
            "text/plain": [
              "vocab.txt:   0%|          | 0.00/232k [00:00<?, ?B/s]"
            ],
            "application/vnd.jupyter.widget-view+json": {
              "version_major": 2,
              "version_minor": 0,
              "model_id": "7afaa1c2ef324fa1bd179ba7e86d30de"
            }
          },
          "metadata": {}
        },
        {
          "output_type": "display_data",
          "data": {
            "text/plain": [
              "tokenizer.json:   0%|          | 0.00/466k [00:00<?, ?B/s]"
            ],
            "application/vnd.jupyter.widget-view+json": {
              "version_major": 2,
              "version_minor": 0,
              "model_id": "eb613bfcbbc94baaa447f82572b408de"
            }
          },
          "metadata": {}
        },
        {
          "output_type": "display_data",
          "data": {
            "text/plain": [
              "config.json:   0%|          | 0.00/570 [00:00<?, ?B/s]"
            ],
            "application/vnd.jupyter.widget-view+json": {
              "version_major": 2,
              "version_minor": 0,
              "model_id": "65ddd668dd184a2287c91ccfe6d5a246"
            }
          },
          "metadata": {}
        },
        {
          "output_type": "stream",
          "name": "stderr",
          "text": [
            "/usr/local/lib/python3.10/dist-packages/transformers/tokenization_utils_base.py:1601: FutureWarning: `clean_up_tokenization_spaces` was not set. It will be set to `True` by default. This behavior will be depracted in transformers v4.45, and will be then set to `False` by default. For more details check this issue: https://github.com/huggingface/transformers/issues/31884\n",
            "  warnings.warn(\n"
          ]
        },
        {
          "output_type": "display_data",
          "data": {
            "text/plain": [
              "model.safetensors:   0%|          | 0.00/440M [00:00<?, ?B/s]"
            ],
            "application/vnd.jupyter.widget-view+json": {
              "version_major": 2,
              "version_minor": 0,
              "model_id": "762d8f4af22d4463a90a8d6e226c006b"
            }
          },
          "metadata": {}
        },
        {
          "output_type": "stream",
          "name": "stderr",
          "text": [
            "Some weights of BertForSequenceClassification were not initialized from the model checkpoint at bert-base-uncased and are newly initialized: ['classifier.bias', 'classifier.weight']\n",
            "You should probably TRAIN this model on a down-stream task to be able to use it for predictions and inference.\n"
          ]
        }
      ]
    },
    {
      "cell_type": "code",
      "source": [
        "paragraph =\"\"\"The 2019–20 coronavirus pandemic is an ongoing pandemic of coronavirus disease 2019 (COVID-19), caused by severe acute respiratory syndrome coronavirus 2 (SARS-CoV-2).[4] The outbreak was first identified in Wuhan, Hubei, China, in December 2019, and was recognized as a pandemic by the World Health Organization (WHO) on 11 March 2020.[5] As of 25 March, more than 422,000 cases of COVID-19 have been reported in more than 190 countries and territories, resulting in more than 18,900 deaths and more than 109,000 recoveries.[2][3]\n",
        "The virus is typically spread during close contact and via respiratory droplets produced when people cough or sneeze.[6][7] Respiratory droplets may be produced during breathing but it is not considered airborne.[6] It may also spread when one touches a contaminated surface and then their face.[6][7] It is most contagious when people are symptomatic, although spread may be possible before symptoms appear.[7] The time between exposure and symptom onset is typically around five days, but may range from two to fourteen days.[8][9] Common symptoms include fever, cough, and shortness of breath.[8] Complications may include pneumonia and acute respiratory distress syndrome.[10] There is no known vaccine or specific antiviral treatment.[6] Primary treatment is symptomatic and supportive therapy.[11] Recommended preventive measures include hand washing, covering the mouth when coughing, maintaining distance from other people, and monitoring and self-isolation for people who suspect they are infected.[6]\n",
        "Efforts to prevent the virus spreading include travel restrictions, quarantines, curfews, event postponements and cancellations, and facility closures. These include a quarantine of Hubei, nationwide quarantines in Italy and elsewhere in Europe, nationwide lockdown in India, curfew measures elsewhere in China and South Korea,[12][13][14] various border closures or incoming passenger restrictions,[15][16] screening at airports and train stations,[17] and travel advisories regarding regions with community transmission.[18][19][20][21] Schools and universities have closed either on a nationwide or local basis in more than 124 countries, affecting more than 1.2 billion students.[22]\n",
        "The pandemic has led to global socioeconomic disruption,[23] the postponement or cancellation of sporting, religious, and cultural events,[24] and widespread fears of supply shortages which have spurred panic buying.[25][26] Misinformation and conspiracy theories about the virus have spread online,[27][28] and there have been incidents of xenophobia and racism against Chinese and other East or Southeast Asian people.[29]\n",
        "Glen Travis Campbell (April 22, 1936 – August 8, 2017) was an American singer, guitarist, songwriter, television host, and actor. He was best known for a series of hit songs in the 1960s and 1970s, and for hosting a music and comedy variety show called The Glen Campbell Goodtime Hour on CBS television, from January 1969 until June 1972.[1] He released 64 albums in a career that spanned five decades, selling over 45 million records worldwide, including twelve gold albums, four platinum albums, and one double-platinum album.\n",
        "Born in Billstown, Arkansas, Campbell began his professional career as a studio musician in Los Angeles, spending several years playing with the group of instrumentalists later known as \"The Wrecking Crew\". After becoming a solo artist, he placed a total of 80 different songs on either the Billboard Country Chart, Billboard Hot 100, or Adult Contemporary Chart, of which 29 made the top 10 and of which nine reached number one on at least one of those charts. Among Campbell's hits are \"Universal Soldier\", his first hit from 1965, along with \"Gentle on My Mind\" (1967), \"By the Time I Get to Phoenix\" (1967), \"Dreams of the Everyday Housewife\" (1968), \"Wichita Lineman\" (1968), \"Galveston\" (1969), \"Rhinestone Cowboy\" (1975) and \"Southern Nights\" (1977).[2]\n",
        "In 1967, Campbell won four Grammys in the country and pop categories. For \"Gentle on My Mind\", he received two awards in country and western; \"By the Time I Get to Phoenix\" did the same in pop. Three of his early hits later won Grammy Hall of Fame Awards (2000, 2004, 2008), while Campbell himself won the Grammy Lifetime Achievement Award in 2012. He owned trophies for Male Vocalist of the Year from both the Country Music Association (CMA) and the Academy of Country Music (ACM), and took the CMA's top award as 1968 Entertainer of the Year. Campbell played a supporting role in the film True Grit (1969), which earned him a Golden Globe nomination for Most Promising Newcomer. He also sang the title song, which was nominated for an Academy Award.\n",
        "\"\"\"\n",
        "# Split the paragraph into sentences\n",
        "paragraph_split = sent_tokenize(paragraph)\n",
        "\n",
        "# Tokenize the sentences\n",
        "input_tokens = [tokenizer.encode(sent, add_special_tokens=True) for sent in paragraph_split]\n",
        "\n",
        "# Pad the sequences\n",
        "input_ids = pad_sequences(input_tokens, maxlen=100, dtype=\"long\", value=0, truncating=\"post\", padding=\"post\")\n",
        "\n",
        "# Create attention masks\n",
        "def create_attention_mask(input_id):\n",
        "    attention_masks = []\n",
        "    for sent in input_ids:\n",
        "        att_mask = [int(token_id > 0) for token_id in sent]\n",
        "        attention_masks.append(att_mask)\n",
        "    return attention_masks\n",
        "\n",
        "input_masks = create_attention_mask(input_ids)\n",
        "\n",
        "# Assuming paragraph_split contains the split sentences from the paragraph\n",
        "labels = torch.tensor([1 if any(phrase in sentence.lower() for phrase in ['travel', 'people', 'China', 'pandemic', 'Campbell']) else 0 for sentence in paragraph_split])\n",
        "\n",
        "\n",
        "\n"
      ],
      "metadata": {
        "id": "zUdJm6R-F971"
      },
      "execution_count": 3,
      "outputs": []
    },
    {
      "cell_type": "code",
      "source": [
        "# Convert input_ids and attention_mask to tensors\n",
        "input_ids = torch.tensor(input_ids)\n",
        "attention_mask = torch.tensor(input_masks)\n",
        "# Create DataLoader for training\n",
        "batch_size = 8\n",
        "train_data = TensorDataset(input_ids, attention_mask, labels)\n",
        "train_dataloader = DataLoader(train_data, batch_size=batch_size)\n"
      ],
      "metadata": {
        "id": "MVO3K8FhLKHv"
      },
      "execution_count": 5,
      "outputs": []
    },
    {
      "cell_type": "markdown",
      "source": [
        "Setting up the model training scheme for BERT fine-tuning"
      ],
      "metadata": {
        "id": "A43D0EhebA_t"
      }
    },
    {
      "cell_type": "code",
      "source": [
        "# Set up optimizer and loss function\n",
        "optimizer = optim.AdamW(model.parameters(), lr=3e-5, eps=1e-8, betas=(0.9, 0.999), weight_decay=0.01)\n",
        "loss_fn = CrossEntropyLoss()\n",
        "\n",
        "# Fine-tuning loop\n",
        "epochs = 3\n",
        "model.train()\n",
        "\n",
        "for epoch in range(epochs):\n",
        "    print(f\"Epoch {epoch+1}/{epochs}\")\n",
        "    for step, batch in enumerate(tqdm(train_dataloader, desc=\"Training\")):\n",
        "        batch_input_ids, batch_attention_mask, batch_labels = batch\n",
        "\n",
        "        # Zero the parameter gradients\n",
        "        optimizer.zero_grad()\n",
        "\n",
        "        # Forward pass\n",
        "        outputs = model(input_ids=batch_input_ids, attention_mask=batch_attention_mask, labels=batch_labels)\n",
        "        loss = outputs.loss\n",
        "        logits = outputs.logits\n",
        "\n",
        "        # Backward pass and optimization\n",
        "        loss.backward()\n",
        "        optimizer.step()\n",
        "\n",
        "        # Print loss at each step\n",
        "        if step % 100 == 0:\n",
        "            print(f\"Step {step}, Loss: {loss.item()}\")\n"
      ],
      "metadata": {
        "id": "pMkyP1_NLvuV",
        "outputId": "ad48c96d-d88c-40b5-916a-1395672ac8f8",
        "colab": {
          "base_uri": "https://localhost:8080/"
        }
      },
      "execution_count": 6,
      "outputs": [
        {
          "output_type": "stream",
          "name": "stdout",
          "text": [
            "Epoch 1/3\n"
          ]
        },
        {
          "output_type": "stream",
          "name": "stderr",
          "text": [
            "Training:  25%|██▌       | 1/4 [00:13<00:40, 13.34s/it]"
          ]
        },
        {
          "output_type": "stream",
          "name": "stdout",
          "text": [
            "Step 0, Loss: 0.7650616765022278\n"
          ]
        },
        {
          "output_type": "stream",
          "name": "stderr",
          "text": [
            "Training: 100%|██████████| 4/4 [00:35<00:00,  8.90s/it]\n"
          ]
        },
        {
          "output_type": "stream",
          "name": "stdout",
          "text": [
            "Epoch 2/3\n"
          ]
        },
        {
          "output_type": "stream",
          "name": "stderr",
          "text": [
            "Training:  25%|██▌       | 1/4 [00:08<00:25,  8.44s/it]"
          ]
        },
        {
          "output_type": "stream",
          "name": "stdout",
          "text": [
            "Step 0, Loss: 0.6733090877532959\n"
          ]
        },
        {
          "output_type": "stream",
          "name": "stderr",
          "text": [
            "Training: 100%|██████████| 4/4 [00:33<00:00,  8.35s/it]\n"
          ]
        },
        {
          "output_type": "stream",
          "name": "stdout",
          "text": [
            "Epoch 3/3\n"
          ]
        },
        {
          "output_type": "stream",
          "name": "stderr",
          "text": [
            "Training:  25%|██▌       | 1/4 [00:07<00:21,  7.04s/it]"
          ]
        },
        {
          "output_type": "stream",
          "name": "stdout",
          "text": [
            "Step 0, Loss: 0.5976242423057556\n"
          ]
        },
        {
          "output_type": "stream",
          "name": "stderr",
          "text": [
            "Training: 100%|██████████| 4/4 [00:29<00:00,  7.49s/it]\n"
          ]
        }
      ]
    },
    {
      "cell_type": "code",
      "source": [
        "from google.colab import drive\n",
        "drive.mount('/content/drive')\n"
      ],
      "metadata": {
        "id": "1LesA8EKM0KP",
        "outputId": "707b0e25-0e32-4330-ffa5-4668c6c601f6",
        "colab": {
          "base_uri": "https://localhost:8080/"
        }
      },
      "execution_count": 7,
      "outputs": [
        {
          "output_type": "stream",
          "name": "stdout",
          "text": [
            "Mounted at /content/drive\n"
          ]
        }
      ]
    },
    {
      "cell_type": "code",
      "source": [
        "model.save_pretrained(\"./content/drive/Python/fine_tuned_bert.pth\")\n",
        "tokenizer.save_pretrained(\"./content/drive/Python/fine_tuned_bert\")\n"
      ],
      "metadata": {
        "id": "8blrGKfgOIOl",
        "outputId": "8d8fee44-d2e2-490f-f9e9-2dce3ca39190",
        "colab": {
          "base_uri": "https://localhost:8080/"
        }
      },
      "execution_count": 8,
      "outputs": [
        {
          "output_type": "execute_result",
          "data": {
            "text/plain": [
              "('./content/drive/Python/fine_tuned_bert/tokenizer_config.json',\n",
              " './content/drive/Python/fine_tuned_bert/special_tokens_map.json',\n",
              " './content/drive/Python/fine_tuned_bert/vocab.txt',\n",
              " './content/drive/Python/fine_tuned_bert/added_tokens.json')"
            ]
          },
          "metadata": {},
          "execution_count": 8
        }
      ]
    },
    {
      "cell_type": "code",
      "source": [
        "# Test the fine-tuned model\n",
        "model.eval()  # Set model to evaluation mode\n",
        "with torch.no_grad():\n",
        "    outputs = model(input_ids=input_ids, attention_mask=attention_mask)\n",
        "    logits = outputs.logits\n",
        "    predictions = torch.argmax(logits, dim=-1)\n",
        "\n",
        "import numpy as np\n",
        "import matplotlib.pyplot as plt\n",
        "import seaborn as sns\n",
        "from sklearn.metrics import accuracy_score, confusion_matrix, precision_score, recall_score, f1_score\n",
        "\n",
        "# Assuming labels and predictions are numpy arrays\n",
        "# Accuracy\n",
        "accuracy = accuracy_score(labels.numpy(), predictions.numpy())\n",
        "print(f\"Accuracy: {accuracy}\")\n",
        "\n",
        "# Confusion Matrix\n",
        "conf_matrix = confusion_matrix(labels.numpy(), predictions.numpy())\n",
        "print(f\"Confusion Matrix:\\n{conf_matrix}\")\n",
        "\n",
        "# Precision, Recall, F1-Score\n",
        "precision = precision_score(labels.numpy(), predictions.numpy())\n",
        "recall = recall_score(labels.numpy(), predictions.numpy())\n",
        "f1 = f1_score(labels.numpy(), predictions.numpy())\n",
        "\n",
        "print(f\"Precision: {precision}\")\n",
        "print(f\"Recall: {recall}\")\n",
        "print(f\"F1-Score: {f1}\")\n",
        "\n",
        "# Visualization of the multiple metrics\n",
        "\n",
        "# 1. Heatmap of Confusion Matrix\n",
        "plt.figure(figsize=(6, 5))\n",
        "sns.heatmap(conf_matrix, annot=True, fmt='g', cmap='Blues', cbar=False,\n",
        "            xticklabels=['Predicted Negative', 'Predicted Positive'],\n",
        "            yticklabels=['Actual Negative', 'Actual Positive'])\n",
        "plt.title('Confusion Matrix Heatmap')\n",
        "plt.xlabel('Predicted Label')\n",
        "plt.ylabel('True Label')\n",
        "plt.show()\n",
        "\n",
        "# 2. Bar Chart for Precision, Recall, F1-Score\n",
        "metrics = ['Precision', 'Recall', 'F1-Score']\n",
        "scores = [precision, recall, f1]\n",
        "\n",
        "plt.figure(figsize=(6, 5))\n",
        "sns.barplot(x=metrics, y=scores, palette='viridis')\n",
        "plt.ylim(0, 1)  # Set the y-axis from 0 to 1 since metrics are in this range\n",
        "plt.title('Precision, Recall, and F1-Score')\n",
        "plt.show()\n"
      ],
      "metadata": {
        "id": "N41LhcC4PJfM",
        "outputId": "6549e1c7-89b2-45f9-febd-dcf201db8dd6",
        "colab": {
          "base_uri": "https://localhost:8080/",
          "height": 1000
        }
      },
      "execution_count": 9,
      "outputs": [
        {
          "output_type": "stream",
          "name": "stdout",
          "text": [
            "Accuracy: 0.9666666666666667\n",
            "Confusion Matrix:\n",
            "[[21  0]\n",
            " [ 1  8]]\n",
            "Precision: 1.0\n",
            "Recall: 0.8888888888888888\n",
            "F1-Score: 0.9411764705882353\n"
          ]
        },
        {
          "output_type": "display_data",
          "data": {
            "text/plain": [
              "<Figure size 600x500 with 1 Axes>"
            ],
            "image/png": "[encoded data removed]"
          },
          "metadata": {}
        },
        {
          "output_type": "stream",
          "name": "stderr",
          "text": [
            "<ipython-input-9-9dc38e8905b5>:48: FutureWarning: \n",
            "\n",
            "Passing `palette` without assigning `hue` is deprecated and will be removed in v0.14.0. Assign the `x` variable to `hue` and set `legend=False` for the same effect.\n",
            "\n",
            "  sns.barplot(x=metrics, y=scores, palette='viridis')\n"
          ]
        },
        {
          "output_type": "display_data",
          "data": {
            "text/plain": [
              "<Figure size 600x500 with 1 Axes>"
            ],
            "image/png": "[encoded data removed]"
          },
          "metadata": {}
        }
      ]
    },
    {
      "cell_type": "markdown",
      "source": [
        "# Deploy fine-tuned bert for extractive summarisation using sentence scoring/clustering"
      ],
      "metadata": {
        "id": "7Gh75lyuQ3Iy"
      }
    },
    {
      "cell_type": "code",
      "source": [
        "!pip install rouge_score\n",
        "from transformers import BertTokenizer, BertForSequenceClassification\n",
        "import torch\n",
        "import matplotlib.pyplot as plt\n",
        "from nltk import sent_tokenize\n",
        "from rouge_score import rouge_scorer\n",
        "from nltk.translate.bleu_score import sentence_bleu, SmoothingFunction\n"
      ],
      "metadata": {
        "id": "VYfaMEdVQ__E",
        "outputId": "a73b4d92-7e26-4a51-a9cc-1860788081cb",
        "colab": {
          "base_uri": "https://localhost:8080/"
        }
      },
      "execution_count": 15,
      "outputs": [
        {
          "output_type": "stream",
          "name": "stdout",
          "text": [
            "Collecting rouge_score\n",
            "  Downloading rouge_score-0.1.2.tar.gz (17 kB)\n",
            "  Preparing metadata (setup.py) ... \u001b[?25l\u001b[?25hdone\n",
            "Requirement already satisfied: absl-py in /usr/local/lib/python3.10/dist-packages (from rouge_score) (1.4.0)\n",
            "Requirement already satisfied: nltk in /usr/local/lib/python3.10/dist-packages (from rouge_score) (3.8.1)\n",
            "Requirement already satisfied: numpy in /usr/local/lib/python3.10/dist-packages (from rouge_score) (1.26.4)\n",
            "Requirement already satisfied: six>=1.14.0 in /usr/local/lib/python3.10/dist-packages (from rouge_score) (1.16.0)\n",
            "Requirement already satisfied: click in /usr/local/lib/python3.10/dist-packages (from nltk->rouge_score) (8.1.7)\n",
            "Requirement already satisfied: joblib in /usr/local/lib/python3.10/dist-packages (from nltk->rouge_score) (1.4.2)\n",
            "Requirement already satisfied: regex>=2021.8.3 in /usr/local/lib/python3.10/dist-packages (from nltk->rouge_score) (2024.9.11)\n",
            "Requirement already satisfied: tqdm in /usr/local/lib/python3.10/dist-packages (from nltk->rouge_score) (4.66.5)\n",
            "Building wheels for collected packages: rouge_score\n",
            "  Building wheel for rouge_score (setup.py) ... \u001b[?25l\u001b[?25hdone\n",
            "  Created wheel for rouge_score: filename=rouge_score-0.1.2-py3-none-any.whl size=24935 sha256=69644f83b03e200f9f8b50394c5a585a9a51c05f957b339e53e14ca0eff2731f\n",
            "  Stored in directory: /root/.cache/pip/wheels/5f/dd/89/461065a73be61a532ff8599a28e9beef17985c9e9c31e541b4\n",
            "Successfully built rouge_score\n",
            "Installing collected packages: rouge_score\n",
            "Successfully installed rouge_score-0.1.2\n"
          ]
        }
      ]
    },
    {
      "cell_type": "code",
      "source": [
        "# Load the fine-tuned BERT model and tokenizer\n",
        "tokenizer = BertTokenizer.from_pretrained('./content/drive/Python/fine_tuned_bert')  # Replace with your saved model path\n"
      ],
      "metadata": {
        "id": "jbt2gcP4RlKq"
      },
      "execution_count": 24,
      "outputs": []
    },
    {
      "cell_type": "code",
      "source": [
        "paragraph =\"\"\"The 2019–20 coronavirus pandemic is an ongoing pandemic of coronavirus disease 2019 (COVID-19), caused by severe acute respiratory syndrome coronavirus 2 (SARS-CoV-2).[4] The outbreak was first identified in Wuhan, Hubei, China, in December 2019, and was recognized as a pandemic by the World Health Organization (WHO) on 11 March 2020.[5] As of 25 March, more than 422,000 cases of COVID-19 have been reported in more than 190 countries and territories, resulting in more than 18,900 deaths and more than 109,000 recoveries.[2][3]\n",
        "The virus is typically spread during close contact and via respiratory droplets produced when people cough or sneeze.[6][7] Respiratory droplets may be produced during breathing but it is not considered airborne.[6] It may also spread when one touches a contaminated surface and then their face.[6][7] It is most contagious when people are symptomatic, although spread may be possible before symptoms appear.[7] The time between exposure and symptom onset is typically around five days, but may range from two to fourteen days.[8][9] Common symptoms include fever, cough, and shortness of breath.[8] Complications may include pneumonia and acute respiratory distress syndrome.[10] There is no known vaccine or specific antiviral treatment.[6] Primary treatment is symptomatic and supportive therapy.[11] Recommended preventive measures include hand washing, covering the mouth when coughing, maintaining distance from other people, and monitoring and self-isolation for people who suspect they are infected.[6]\n",
        "Efforts to prevent the virus spreading include travel restrictions, quarantines, curfews, event postponements and cancellations, and facility closures. These include a quarantine of Hubei, nationwide quarantines in Italy and elsewhere in Europe, nationwide lockdown in India, curfew measures elsewhere in China and South Korea,[12][13][14] various border closures or incoming passenger restrictions,[15][16] screening at airports and train stations,[17] and travel advisories regarding regions with community transmission.[18][19][20][21] Schools and universities have closed either on a nationwide or local basis in more than 124 countries, affecting more than 1.2 billion students.[22]\n",
        "The pandemic has led to global socioeconomic disruption,[23] the postponement or cancellation of sporting, religious, and cultural events,[24] and widespread fears of supply shortages which have spurred panic buying.[25][26] Misinformation and conspiracy theories about the virus have spread online,[27][28] and there have been incidents of xenophobia and racism against Chinese and other East or Southeast Asian people.[29]\n",
        "Glen Travis Campbell (April 22, 1936 – August 8, 2017) was an American singer, guitarist, songwriter, television host, and actor. He was best known for a series of hit songs in the 1960s and 1970s, and for hosting a music and comedy variety show called The Glen Campbell Goodtime Hour on CBS television, from January 1969 until June 1972.[1] He released 64 albums in a career that spanned five decades, selling over 45 million records worldwide, including twelve gold albums, four platinum albums, and one double-platinum album.\n",
        "Born in Billstown, Arkansas, Campbell began his professional career as a studio musician in Los Angeles, spending several years playing with the group of instrumentalists later known as \"The Wrecking Crew\". After becoming a solo artist, he placed a total of 80 different songs on either the Billboard Country Chart, Billboard Hot 100, or Adult Contemporary Chart, of which 29 made the top 10 and of which nine reached number one on at least one of those charts. Among Campbell's hits are \"Universal Soldier\", his first hit from 1965, along with \"Gentle on My Mind\" (1967), \"By the Time I Get to Phoenix\" (1967), \"Dreams of the Everyday Housewife\" (1968), \"Wichita Lineman\" (1968), \"Galveston\" (1969), \"Rhinestone Cowboy\" (1975) and \"Southern Nights\" (1977).[2]\n",
        "In 1967, Campbell won four Grammys in the country and pop categories. For \"Gentle on My Mind\", he received two awards in country and western; \"By the Time I Get to Phoenix\" did the same in pop. Three of his early hits later won Grammy Hall of Fame Awards (2000, 2004, 2008), while Campbell himself won the Grammy Lifetime Achievement Award in 2012. He owned trophies for Male Vocalist of the Year from both the Country Music Association (CMA) and the Academy of Country Music (ACM), and took the CMA's top award as 1968 Entertainer of the Year. Campbell played a supporting role in the film True Grit (1969), which earned him a Golden Globe nomination for Most Promising Newcomer. He also sang the title song, which was nominated for an Academy Award.\n",
        "\"\"\"\n",
        "# Split the paragraph into sentences\n",
        "paragraph_split = sent_tokenize(paragraph)\n",
        "\n",
        "# Tokenize the sentences\n",
        "input_tokens = [tokenizer.encode(sent, add_special_tokens=True) for sent in paragraph_split]\n",
        "\n",
        "# Pad the sequences\n",
        "input_ids = pad_sequences(input_tokens, maxlen=100, dtype=\"long\", value=0, truncating=\"post\", padding=\"post\")\n",
        "\n",
        "# Create attention masks\n",
        "def create_attention_mask(input_id):\n",
        "    attention_masks = []\n",
        "    for sent in input_ids:\n",
        "        att_mask = [int(token_id > 0) for token_id in sent]\n",
        "        attention_masks.append(att_mask)\n",
        "    return attention_masks\n",
        "\n",
        "input_masks = create_attention_mask(input_ids)"
      ],
      "metadata": {
        "id": "zD6ZzRGRSlgF"
      },
      "execution_count": 18,
      "outputs": []
    },
    {
      "cell_type": "code",
      "source": [
        "# Convert input tokens and masks to torch tensors\n",
        "input_ids = torch.tensor(input_ids)\n",
        "attention_mask = torch.tensor(input_masks)\n"
      ],
      "metadata": {
        "id": "3dOUuQIpTaGL"
      },
      "execution_count": 19,
      "outputs": []
    },
    {
      "cell_type": "code",
      "source": [
        "# Load the fine-tuned BERT model for summarization\n",
        "model = BertForSequenceClassification.from_pretrained('./content/drive/Python/fine_tuned_bert.pth')  # Replace with your saved model path\n",
        "\n",
        "# Put the model in evaluation mode (we're not training, just inferring)\n",
        "model.eval()\n",
        "\n"
      ],
      "metadata": {
        "id": "HzAeGKCnTgA3",
        "outputId": "1d4a5d86-6cfd-4d09-d4e8-10bb88f7e379",
        "colab": {
          "base_uri": "https://localhost:8080/"
        }
      },
      "execution_count": 22,
      "outputs": [
        {
          "output_type": "execute_result",
          "data": {
            "text/plain": [
              "BertForSequenceClassification(\n",
              "  (bert): BertModel(\n",
              "    (embeddings): BertEmbeddings(\n",
              "      (word_embeddings): Embedding(30522, 768, padding_idx=0)\n",
              "      (position_embeddings): Embedding(512, 768)\n",
              "      (token_type_embeddings): Embedding(2, 768)\n",
              "      (LayerNorm): LayerNorm((768,), eps=1e-12, elementwise_affine=True)\n",
              "      (dropout): Dropout(p=0.1, inplace=False)\n",
              "    )\n",
              "    (encoder): BertEncoder(\n",
              "      (layer): ModuleList(\n",
              "        (0-11): 12 x BertLayer(\n",
              "          (attention): BertAttention(\n",
              "            (self): BertSdpaSelfAttention(\n",
              "              (query): Linear(in_features=768, out_features=768, bias=True)\n",
              "              (key): Linear(in_features=768, out_features=768, bias=True)\n",
              "              (value): Linear(in_features=768, out_features=768, bias=True)\n",
              "              (dropout): Dropout(p=0.1, inplace=False)\n",
              "            )\n",
              "            (output): BertSelfOutput(\n",
              "              (dense): Linear(in_features=768, out_features=768, bias=True)\n",
              "              (LayerNorm): LayerNorm((768,), eps=1e-12, elementwise_affine=True)\n",
              "              (dropout): Dropout(p=0.1, inplace=False)\n",
              "            )\n",
              "          )\n",
              "          (intermediate): BertIntermediate(\n",
              "            (dense): Linear(in_features=768, out_features=3072, bias=True)\n",
              "            (intermediate_act_fn): GELUActivation()\n",
              "          )\n",
              "          (output): BertOutput(\n",
              "            (dense): Linear(in_features=3072, out_features=768, bias=True)\n",
              "            (LayerNorm): LayerNorm((768,), eps=1e-12, elementwise_affine=True)\n",
              "            (dropout): Dropout(p=0.1, inplace=False)\n",
              "          )\n",
              "        )\n",
              "      )\n",
              "    )\n",
              "    (pooler): BertPooler(\n",
              "      (dense): Linear(in_features=768, out_features=768, bias=True)\n",
              "      (activation): Tanh()\n",
              "    )\n",
              "  )\n",
              "  (dropout): Dropout(p=0.1, inplace=False)\n",
              "  (classifier): Linear(in_features=768, out_features=2, bias=True)\n",
              ")"
            ]
          },
          "metadata": {},
          "execution_count": 22
        }
      ]
    },
    {
      "cell_type": "markdown",
      "source": [
        "# Deploy via k-means clustering"
      ],
      "metadata": {
        "id": "EO8_1EimVulF"
      }
    },
    {
      "cell_type": "code",
      "source": [
        "# Use the model to obtain sentence embeddings\n",
        "with torch.no_grad():\n",
        "    outputs = model(input_ids, attention_mask=attention_mask)\n",
        "\n",
        "# Extract the sentence embeddings from the output (using the last hidden state)\n",
        "sentence_features = outputs[0].detach().numpy()  # Directly extract the 2D features  # Shape: (num_sentences, embedding_dim)\n",
        "print(outputs[0].shape)\n"
      ],
      "metadata": {
        "id": "8Zi_fIk2XVzN",
        "outputId": "2a497d08-06f3-46d0-fba4-d388b33b3135",
        "colab": {
          "base_uri": "https://localhost:8080/"
        }
      },
      "execution_count": 27,
      "outputs": [
        {
          "output_type": "stream",
          "name": "stdout",
          "text": [
            "torch.Size([30, 2])\n"
          ]
        }
      ]
    },
    {
      "cell_type": "code",
      "source": [
        "# Check the shape of the sentence embeddings\n",
        "print(f\"Sentence embeddings shape: {sentence_features.shape}\")  # Expect: (num_sentences, 768)"
      ],
      "metadata": {
        "id": "b9kezSr_YUXH",
        "outputId": "8302add9-c1d5-4a93-a479-1db87f37c6ff",
        "colab": {
          "base_uri": "https://localhost:8080/"
        }
      },
      "execution_count": 28,
      "outputs": [
        {
          "output_type": "stream",
          "name": "stdout",
          "text": [
            "Sentence embeddings shape: (30, 2)\n"
          ]
        }
      ]
    },
    {
      "cell_type": "code",
      "source": [
        "from sklearn.cluster import KMeans\n",
        "\n",
        "# Number of sentences to extract (you can modify this value)\n",
        "number_extract = 7\n",
        "\n",
        "# Perform K-means clustering on the sentence embeddings\n",
        "kmeans = KMeans(n_clusters=number_extract, random_state=0).fit(sentence_features)\n",
        "\n",
        "# Get the cluster centers\n",
        "cluster_centers = kmeans.cluster_centers_\n",
        "\n",
        "# Assign each sentence to a cluster\n",
        "sentence_clusters = kmeans.predict(sentence_features)\n",
        "\n",
        "from sklearn.neighbors import NearestNeighbors\n",
        "import numpy as np\n",
        "\n",
        "# Fit the Nearest Neighbors model on the sentence embeddings\n",
        "nbrs = NearestNeighbors(n_neighbors=1, algorithm='brute').fit(sentence_features)\n",
        "\n",
        "# Find the nearest sentence to each cluster center\n",
        "distances, indices = nbrs.kneighbors(cluster_centers)\n",
        "\n",
        "# Extract the sentence indices corresponding to the cluster centers\n",
        "indices = np.sort(indices.reshape(1, -1))\n",
        "\n",
        "# Get the most representative sentences for the summary\n",
        "topic_answer = [paragraph_split[i] for i in indices[0]]\n",
        "# Display the extracted sentences (summary)\n",
        "print(f'The {number_extract} extracted sentences are:')\n",
        "for i, sentence in enumerate(topic_answer, 1):\n",
        "    print(f'{i}. {sentence}')\n",
        "\n",
        "# Import required libraries\n",
        "from scipy.spatial.distance import pdist, squareform\n",
        "import seaborn as sns\n",
        "import matplotlib.pyplot as plt\n",
        "from sklearn.decomposition import PCA\n",
        "\n",
        "# Visualize the clusters using PCA (optional)\n",
        "array_similarity = squareform(pdist(sentence_features, metric='euclidean'))\n",
        "sns.heatmap(array_similarity)\n",
        "plt.title('visualizing sentence semantic similarity')\n",
        "\n",
        "# Apply PCA for dimensionality reduction\n",
        "pca = PCA(n_components=2)\n",
        "pca.fit(sentence_features)\n",
        "pca_sentence_features = pca.transform(sentence_features)\n",
        "\n",
        "# Plot the 2D PCA projection\n",
        "plt.figure(figsize=(10, 10))\n",
        "for i in range(len(pca_sentence_features)):\n",
        "    plt.scatter(pca_sentence_features[i, 0], pca_sentence_features[i, 1])\n",
        "    plt.annotate('Sentence ' + str(i), (pca_sentence_features[i, 0], pca_sentence_features[i, 1]))\n",
        "\n",
        "plt.title('2D PCA projection of sentence embeddings')\n",
        "plt.show()\n",
        "\n"
      ],
      "metadata": {
        "id": "Id37mIXWVc18",
        "outputId": "44256372-9089-4305-8a15-9e079fb80aa1",
        "colab": {
          "base_uri": "https://localhost:8080/",
          "height": 1000
        }
      },
      "execution_count": 31,
      "outputs": [
        {
          "output_type": "stream",
          "name": "stdout",
          "text": [
            "The 7 extracted sentences are:\n",
            "1. [11] Recommended preventive measures include hand washing, covering the mouth when coughing, maintaining distance from other people, and monitoring and self-isolation for people who suspect they are infected.\n",
            "2. [6]\n",
            "Efforts to prevent the virus spreading include travel restrictions, quarantines, curfews, event postponements and cancellations, and facility closures.\n",
            "3. [18][19][20][21] Schools and universities have closed either on a nationwide or local basis in more than 124 countries, affecting more than 1.2 billion students.\n",
            "4. [22]\n",
            "The pandemic has led to global socioeconomic disruption,[23] the postponement or cancellation of sporting, religious, and cultural events,[24] and widespread fears of supply shortages which have spurred panic buying.\n",
            "5. [2]\n",
            "In 1967, Campbell won four Grammys in the country and pop categories.\n",
            "6. For \"Gentle on My Mind\", he received two awards in country and western; \"By the Time I Get to Phoenix\" did the same in pop.\n",
            "7. He also sang the title song, which was nominated for an Academy Award.\n"
          ]
        },
        {
          "output_type": "display_data",
          "data": {
            "text/plain": [
              "<Figure size 640x480 with 2 Axes>"
            ],
            "image/png": "[encoded data removed]"
          },
          "metadata": {}
        },
        {
          "output_type": "display_data",
          "data": {
            "text/plain": [
              "<Figure size 1000x1000 with 1 Axes>"
            ],
            "image/png": "[encoded data removed]"
          },
          "metadata": {}
        }
      ]
    },
    {
      "cell_type": "markdown",
      "source": [
        "# ROUGE and BLEU Evaluation"
      ],
      "metadata": {
        "id": "BjqaB0lTaeJx"
      }
    },
    {
      "cell_type": "code",
      "source": [
        "# Reference text (the full original text)\n",
        "reference_text = paragraph\n",
        "\n",
        "# Hypothesis text (the generated summary)\n",
        "hypothesis_text = \" \".join(topic_answer)\n",
        "\n",
        "!pip install rouge-score\n",
        "from rouge_score import rouge_scorer\n",
        "from nltk.translate.bleu_score import sentence_bleu, SmoothingFunction\n",
        "from nltk.tokenize import sent_tokenize\n",
        "import matplotlib.pyplot as plt\n",
        "\n",
        "\n",
        "# Initialize ROUGE scorer\n",
        "scorer = rouge_scorer.RougeScorer(['rouge1', 'rouge2', 'rougeL'], use_stemmer=True)\n",
        "\n",
        "# Compute ROUGE scores\n",
        "scores = scorer.score(reference_text, hypothesis_text)\n",
        "\n",
        "# Compute BLEU score\n",
        "smoothie = SmoothingFunction().method4  # Smoothing to handle brevity in summary\n",
        "reference_tokens = [sent_tokenize(reference_text)]\n",
        "hypothesis_tokens = sent_tokenize(hypothesis_text)\n",
        "bleu_score = sentence_bleu(reference_tokens, hypothesis_tokens, smoothing_function=smoothie)\n",
        "\n",
        "# Print ROUGE and BLEU Scores\n",
        "print(\"\\nEvaluation Metrics:\")\n",
        "for metric, score in scores.items():\n",
        "    print(f\"{metric.upper()}: Precision={score.precision:.4f}, Recall={score.recall:.4f}, F1-Score={score.fmeasure:.4f}\")\n",
        "print(f\"BLEU: {bleu_score:.4f}\")\n",
        "\n",
        "# Visualization of metrics\n",
        "\n",
        "# Prepare the data for plotting\n",
        "metric_names = ['ROUGE-1', 'ROUGE-2', 'ROUGE-L', 'BLEU']\n",
        "precision_scores = [scores['rouge1'].precision, scores['rouge2'].precision, scores['rougeL'].precision,\n",
        "                    bleu_score]\n",
        "recall_scores = [scores['rouge1'].recall, scores['rouge2'].recall, scores['rougeL'].recall,\n",
        "                 bleu_score]\n",
        "f1_scores = [scores['rouge1'].fmeasure, scores['rouge2'].fmeasure, scores['rougeL'].fmeasure,\n",
        "             bleu_score]\n",
        "\n",
        "# Plot Precision, Recall, F1-Score, and BLEU together\n",
        "x = range(len(metric_names))\n",
        "plt.figure(figsize=(10, 6))\n",
        "\n",
        "plt.plot(x, precision_scores, label='Precision', marker='o', color='b')\n",
        "plt.plot(x, recall_scores, label='Recall', marker='o', color='g')\n",
        "plt.plot(x, f1_scores, label='F1-Score', marker='o', color='r')\n",
        "\n",
        "# Adding labels\n",
        "plt.xticks(x, metric_names)\n",
        "plt.title('ROUGE and BLEU Evaluation Metrics')\n",
        "plt.xlabel('Metrics')\n",
        "plt.ylabel('Scores')\n",
        "plt.legend()\n",
        "\n",
        "# Show the plot\n",
        "plt.tight_layout()\n",
        "plt.show()\n",
        "\n"
      ],
      "metadata": {
        "id": "8vxq48R3aGyg",
        "outputId": "f74da5a0-802e-4255-8bd8-b47abbf7a207",
        "colab": {
          "base_uri": "https://localhost:8080/",
          "height": 867
        }
      },
      "execution_count": 32,
      "outputs": [
        {
          "output_type": "stream",
          "name": "stdout",
          "text": [
            "Requirement already satisfied: rouge-score in /usr/local/lib/python3.10/dist-packages (0.1.2)\n",
            "Requirement already satisfied: absl-py in /usr/local/lib/python3.10/dist-packages (from rouge-score) (1.4.0)\n",
            "Requirement already satisfied: nltk in /usr/local/lib/python3.10/dist-packages (from rouge-score) (3.8.1)\n",
            "Requirement already satisfied: numpy in /usr/local/lib/python3.10/dist-packages (from rouge-score) (1.26.4)\n",
            "Requirement already satisfied: six>=1.14.0 in /usr/local/lib/python3.10/dist-packages (from rouge-score) (1.16.0)\n",
            "Requirement already satisfied: click in /usr/local/lib/python3.10/dist-packages (from nltk->rouge-score) (8.1.7)\n",
            "Requirement already satisfied: joblib in /usr/local/lib/python3.10/dist-packages (from nltk->rouge-score) (1.4.2)\n",
            "Requirement already satisfied: regex>=2021.8.3 in /usr/local/lib/python3.10/dist-packages (from nltk->rouge-score) (2024.9.11)\n",
            "Requirement already satisfied: tqdm in /usr/local/lib/python3.10/dist-packages (from nltk->rouge-score) (4.66.5)\n",
            "\n",
            "Evaluation Metrics:\n",
            "ROUGE1: Precision=1.0000, Recall=0.2095, F1-Score=0.3464\n",
            "ROUGE2: Precision=0.9810, Recall=0.2045, F1-Score=0.3384\n",
            "ROUGEL: Precision=1.0000, Recall=0.2095, F1-Score=0.3464\n",
            "BLEU: 0.0055\n"
          ]
        },
        {
          "output_type": "display_data",
          "data": {
            "text/plain": [
              "<Figure size 1000x600 with 1 Axes>"
            ],
            "image/png": "[encoded data removed]"
          },
          "metadata": {}
        }
      ]
    }
  ],
  "metadata": {
    "colab": {
      "name": "Welcome to Colaboratory",
      "provenance": [],
      "include_colab_link": true
    },
    "kernelspec": {
      "display_name": "Python 3",
      "name": "python3"
    },
    "widgets": {
      "application/vnd.jupyter.widget-state+json": {
        "991f9b6637aa40998721453040d11948": {
          "model_module": "@jupyter-widgets/controls",
          "model_name": "HBoxModel",
          "model_module_version": "1.5.0",
          "state": {
            "_dom_classes": [],
            "_model_module": "@jupyter-widgets/controls",
            "_model_module_version": "1.5.0",
            "_model_name": "HBoxModel",
            "_view_count": null,
            "_view_module": "@jupyter-widgets/controls",
            "_view_module_version": "1.5.0",
            "_view_name": "HBoxView",
            "box_style": "",
            "children": [
              "IPY_MODEL_bb13b0385fd042a690e7739ab1ab099a",
              "IPY_MODEL_6f5385fbc3194113875fd492f1206511",
              "IPY_MODEL_643bad4d0d8743fdabc662198104cd5a"
            ],
            "layout": "IPY_MODEL_12f892ccb3d440bd8854b9492005d6bb"
          }
        },
        "bb13b0385fd042a690e7739ab1ab099a": {
          "model_module": "@jupyter-widgets/controls",
          "model_name": "HTMLModel",
          "model_module_version": "1.5.0",
          "state": {
            "_dom_classes": [],
            "_model_module": "@jupyter-widgets/controls",
            "_model_module_version": "1.5.0",
            "_model_name": "HTMLModel",
            "_view_count": null,
            "_view_module": "@jupyter-widgets/controls",
            "_view_module_version": "1.5.0",
            "_view_name": "HTMLView",
            "description": "",
            "description_tooltip": null,
            "layout": "IPY_MODEL_eea4024ec2a94029bf0fb2eef830277c",
            "placeholder": "​",
            "style": "IPY_MODEL_e390fcf8368f4891bf89e2869d31c2d4",
            "value": "tokenizer_config.json: 100%"
          }
        },
        "6f5385fbc3194113875fd492f1206511": {
          "model_module": "@jupyter-widgets/controls",
          "model_name": "FloatProgressModel",
          "model_module_version": "1.5.0",
          "state": {
            "_dom_classes": [],
            "_model_module": "@jupyter-widgets/controls",
            "_model_module_version": "1.5.0",
            "_model_name": "FloatProgressModel",
            "_view_count": null,
            "_view_module": "@jupyter-widgets/controls",
            "_view_module_version": "1.5.0",
            "_view_name": "ProgressView",
            "bar_style": "success",
            "description": "",
            "description_tooltip": null,
            "layout": "IPY_MODEL_4c50ca71934645c5b3adb7e1ac1c69c9",
            "max": 48,
            "min": 0,
            "orientation": "horizontal",
            "style": "IPY_MODEL_8226516329da41d0afde11923749a2d9",
            "value": 48
          }
        },
        "643bad4d0d8743fdabc662198104cd5a": {
          "model_module": "@jupyter-widgets/controls",
          "model_name": "HTMLModel",
          "model_module_version": "1.5.0",
          "state": {
            "_dom_classes": [],
            "_model_module": "@jupyter-widgets/controls",
            "_model_module_version": "1.5.0",
            "_model_name": "HTMLModel",
            "_view_count": null,
            "_view_module": "@jupyter-widgets/controls",
            "_view_module_version": "1.5.0",
            "_view_name": "HTMLView",
            "description": "",
            "description_tooltip": null,
            "layout": "IPY_MODEL_baffe57e971b4cbfa2a39f62f3054b78",
            "placeholder": "​",
            "style": "IPY_MODEL_7020927dd3c0467094dca85afdf34d23",
            "value": " 48.0/48.0 [00:00&lt;00:00, 2.76kB/s]"
          }
        },
        "12f892ccb3d440bd8854b9492005d6bb": {
          "model_module": "@jupyter-widgets/base",
          "model_name": "LayoutModel",
          "model_module_version": "1.2.0",
          "state": {
            "_model_module": "@jupyter-widgets/base",
            "_model_module_version": "1.2.0",
            "_model_name": "LayoutModel",
            "_view_count": null,
            "_view_module": "@jupyter-widgets/base",
            "_view_module_version": "1.2.0",
            "_view_name": "LayoutView",
            "align_content": null,
            "align_items": null,
            "align_self": null,
            "border": null,
            "bottom": null,
            "display": null,
            "flex": null,
            "flex_flow": null,
            "grid_area": null,
            "grid_auto_columns": null,
            "grid_auto_flow": null,
            "grid_auto_rows": null,
            "grid_column": null,
            "grid_gap": null,
            "grid_row": null,
            "grid_template_areas": null,
            "grid_template_columns": null,
            "grid_template_rows": null,
            "height": null,
            "justify_content": null,
            "justify_items": null,
            "left": null,
            "margin": null,
            "max_height": null,
            "max_width": null,
            "min_height": null,
            "min_width": null,
            "object_fit": null,
            "object_position": null,
            "order": null,
            "overflow": null,
            "overflow_x": null,
            "overflow_y": null,
            "padding": null,
            "right": null,
            "top": null,
            "visibility": null,
            "width": null
          }
        },
        "eea4024ec2a94029bf0fb2eef830277c": {
          "model_module": "@jupyter-widgets/base",
          "model_name": "LayoutModel",
          "model_module_version": "1.2.0",
          "state": {
            "_model_module": "@jupyter-widgets/base",
            "_model_module_version": "1.2.0",
            "_model_name": "LayoutModel",
            "_view_count": null,
            "_view_module": "@jupyter-widgets/base",
            "_view_module_version": "1.2.0",
            "_view_name": "LayoutView",
            "align_content": null,
            "align_items": null,
            "align_self": null,
            "border": null,
            "bottom": null,
            "display": null,
            "flex": null,
            "flex_flow": null,
            "grid_area": null,
            "grid_auto_columns": null,
            "grid_auto_flow": null,
            "grid_auto_rows": null,
            "grid_column": null,
            "grid_gap": null,
            "grid_row": null,
            "grid_template_areas": null,
            "grid_template_columns": null,
            "grid_template_rows": null,
            "height": null,
            "justify_content": null,
            "justify_items": null,
            "left": null,
            "margin": null,
            "max_height": null,
            "max_width": null,
            "min_height": null,
            "min_width": null,
            "object_fit": null,
            "object_position": null,
            "order": null,
            "overflow": null,
            "overflow_x": null,
            "overflow_y": null,
            "padding": null,
            "right": null,
            "top": null,
            "visibility": null,
            "width": null
          }
        },
        "e390fcf8368f4891bf89e2869d31c2d4": {
          "model_module": "@jupyter-widgets/controls",
          "model_name": "DescriptionStyleModel",
          "model_module_version": "1.5.0",
          "state": {
            "_model_module": "@jupyter-widgets/controls",
            "_model_module_version": "1.5.0",
            "_model_name": "DescriptionStyleModel",
            "_view_count": null,
            "_view_module": "@jupyter-widgets/base",
            "_view_module_version": "1.2.0",
            "_view_name": "StyleView",
            "description_width": ""
          }
        },
        "4c50ca71934645c5b3adb7e1ac1c69c9": {
          "model_module": "@jupyter-widgets/base",
          "model_name": "LayoutModel",
          "model_module_version": "1.2.0",
          "state": {
            "_model_module": "@jupyter-widgets/base",
            "_model_module_version": "1.2.0",
            "_model_name": "LayoutModel",
            "_view_count": null,
            "_view_module": "@jupyter-widgets/base",
            "_view_module_version": "1.2.0",
            "_view_name": "LayoutView",
            "align_content": null,
            "align_items": null,
            "align_self": null,
            "border": null,
            "bottom": null,
            "display": null,
            "flex": null,
            "flex_flow": null,
            "grid_area": null,
            "grid_auto_columns": null,
            "grid_auto_flow": null,
            "grid_auto_rows": null,
            "grid_column": null,
            "grid_gap": null,
            "grid_row": null,
            "grid_template_areas": null,
            "grid_template_columns": null,
            "grid_template_rows": null,
            "height": null,
            "justify_content": null,
            "justify_items": null,
            "left": null,
            "margin": null,
            "max_height": null,
            "max_width": null,
            "min_height": null,
            "min_width": null,
            "object_fit": null,
            "object_position": null,
            "order": null,
            "overflow": null,
            "overflow_x": null,
            "overflow_y": null,
            "padding": null,
            "right": null,
            "top": null,
            "visibility": null,
            "width": null
          }
        },
        "8226516329da41d0afde11923749a2d9": {
          "model_module": "@jupyter-widgets/controls",
          "model_name": "ProgressStyleModel",
          "model_module_version": "1.5.0",
          "state": {
            "_model_module": "@jupyter-widgets/controls",
            "_model_module_version": "1.5.0",
            "_model_name": "ProgressStyleModel",
            "_view_count": null,
            "_view_module": "@jupyter-widgets/base",
            "_view_module_version": "1.2.0",
            "_view_name": "StyleView",
            "bar_color": null,
            "description_width": ""
          }
        },
        "baffe57e971b4cbfa2a39f62f3054b78": {
          "model_module": "@jupyter-widgets/base",
          "model_name": "LayoutModel",
          "model_module_version": "1.2.0",
          "state": {
            "_model_module": "@jupyter-widgets/base",
            "_model_module_version": "1.2.0",
            "_model_name": "LayoutModel",
            "_view_count": null,
            "_view_module": "@jupyter-widgets/base",
            "_view_module_version": "1.2.0",
            "_view_name": "LayoutView",
            "align_content": null,
            "align_items": null,
            "align_self": null,
            "border": null,
            "bottom": null,
            "display": null,
            "flex": null,
            "flex_flow": null,
            "grid_area": null,
            "grid_auto_columns": null,
            "grid_auto_flow": null,
            "grid_auto_rows": null,
            "grid_column": null,
            "grid_gap": null,
            "grid_row": null,
            "grid_template_areas": null,
            "grid_template_columns": null,
            "grid_template_rows": null,
            "height": null,
            "justify_content": null,
            "justify_items": null,
            "left": null,
            "margin": null,
            "max_height": null,
            "max_width": null,
            "min_height": null,
            "min_width": null,
            "object_fit": null,
            "object_position": null,
            "order": null,
            "overflow": null,
            "overflow_x": null,
            "overflow_y": null,
            "padding": null,
            "right": null,
            "top": null,
            "visibility": null,
            "width": null
          }
        },
        "7020927dd3c0467094dca85afdf34d23": {
          "model_module": "@jupyter-widgets/controls",
          "model_name": "DescriptionStyleModel",
          "model_module_version": "1.5.0",
          "state": {
            "_model_module": "@jupyter-widgets/controls",
            "_model_module_version": "1.5.0",
            "_model_name": "DescriptionStyleModel",
            "_view_count": null,
            "_view_module": "@jupyter-widgets/base",
            "_view_module_version": "1.2.0",
            "_view_name": "StyleView",
            "description_width": ""
          }
        },
        "7afaa1c2ef324fa1bd179ba7e86d30de": {
          "model_module": "@jupyter-widgets/controls",
          "model_name": "HBoxModel",
          "model_module_version": "1.5.0",
          "state": {
            "_dom_classes": [],
            "_model_module": "@jupyter-widgets/controls",
            "_model_module_version": "1.5.0",
            "_model_name": "HBoxModel",
            "_view_count": null,
            "_view_module": "@jupyter-widgets/controls",
            "_view_module_version": "1.5.0",
            "_view_name": "HBoxView",
            "box_style": "",
            "children": [
              "IPY_MODEL_af8c46f5cd394a79ad81f7e2a39862bb",
              "IPY_MODEL_8905e91c6d184293bf0ae2ec0eb5982d",
              "IPY_MODEL_ec2c0287ecfe4cd6963859ad7be97dff"
            ],
            "layout": "IPY_MODEL_616c36340b9442e99689acf3fb314431"
          }
        },
        "af8c46f5cd394a79ad81f7e2a39862bb": {
          "model_module": "@jupyter-widgets/controls",
          "model_name": "HTMLModel",
          "model_module_version": "1.5.0",
          "state": {
            "_dom_classes": [],
            "_model_module": "@jupyter-widgets/controls",
            "_model_module_version": "1.5.0",
            "_model_name": "HTMLModel",
            "_view_count": null,
            "_view_module": "@jupyter-widgets/controls",
            "_view_module_version": "1.5.0",
            "_view_name": "HTMLView",
            "description": "",
            "description_tooltip": null,
            "layout": "IPY_MODEL_c25f65bcdf2340cfa3b856049c7c0207",
            "placeholder": "​",
            "style": "IPY_MODEL_e51369b26f9747b09cd56c719dad569b",
            "value": "vocab.txt: 100%"
          }
        },
        "8905e91c6d184293bf0ae2ec0eb5982d": {
          "model_module": "@jupyter-widgets/controls",
          "model_name": "FloatProgressModel",
          "model_module_version": "1.5.0",
          "state": {
            "_dom_classes": [],
            "_model_module": "@jupyter-widgets/controls",
            "_model_module_version": "1.5.0",
            "_model_name": "FloatProgressModel",
            "_view_count": null,
            "_view_module": "@jupyter-widgets/controls",
            "_view_module_version": "1.5.0",
            "_view_name": "ProgressView",
            "bar_style": "success",
            "description": "",
            "description_tooltip": null,
            "layout": "IPY_MODEL_fbf2e1b6f2a44146b33d6123e7d02eb7",
            "max": 231508,
            "min": 0,
            "orientation": "horizontal",
            "style": "IPY_MODEL_468b4e012f7b4cbe888daae74f7f2f24",
            "value": 231508
          }
        },
        "ec2c0287ecfe4cd6963859ad7be97dff": {
          "model_module": "@jupyter-widgets/controls",
          "model_name": "HTMLModel",
          "model_module_version": "1.5.0",
          "state": {
            "_dom_classes": [],
            "_model_module": "@jupyter-widgets/controls",
            "_model_module_version": "1.5.0",
            "_model_name": "HTMLModel",
            "_view_count": null,
            "_view_module": "@jupyter-widgets/controls",
            "_view_module_version": "1.5.0",
            "_view_name": "HTMLView",
            "description": "",
            "description_tooltip": null,
            "layout": "IPY_MODEL_99ad009ccf19434694dc53d0182fa1d2",
            "placeholder": "​",
            "style": "IPY_MODEL_53e79a1607034d2eb4fbd7dfe15ceb2c",
            "value": " 232k/232k [00:00&lt;00:00, 674kB/s]"
          }
        },
        "616c36340b9442e99689acf3fb314431": {
          "model_module": "@jupyter-widgets/base",
          "model_name": "LayoutModel",
          "model_module_version": "1.2.0",
          "state": {
            "_model_module": "@jupyter-widgets/base",
            "_model_module_version": "1.2.0",
            "_model_name": "LayoutModel",
            "_view_count": null,
            "_view_module": "@jupyter-widgets/base",
            "_view_module_version": "1.2.0",
            "_view_name": "LayoutView",
            "align_content": null,
            "align_items": null,
            "align_self": null,
            "border": null,
            "bottom": null,
            "display": null,
            "flex": null,
            "flex_flow": null,
            "grid_area": null,
            "grid_auto_columns": null,
            "grid_auto_flow": null,
            "grid_auto_rows": null,
            "grid_column": null,
            "grid_gap": null,
            "grid_row": null,
            "grid_template_areas": null,
            "grid_template_columns": null,
            "grid_template_rows": null,
            "height": null,
            "justify_content": null,
            "justify_items": null,
            "left": null,
            "margin": null,
            "max_height": null,
            "max_width": null,
            "min_height": null,
            "min_width": null,
            "object_fit": null,
            "object_position": null,
            "order": null,
            "overflow": null,
            "overflow_x": null,
            "overflow_y": null,
            "padding": null,
            "right": null,
            "top": null,
            "visibility": null,
            "width": null
          }
        },
        "c25f65bcdf2340cfa3b856049c7c0207": {
          "model_module": "@jupyter-widgets/base",
          "model_name": "LayoutModel",
          "model_module_version": "1.2.0",
          "state": {
            "_model_module": "@jupyter-widgets/base",
            "_model_module_version": "1.2.0",
            "_model_name": "LayoutModel",
            "_view_count": null,
            "_view_module": "@jupyter-widgets/base",
            "_view_module_version": "1.2.0",
            "_view_name": "LayoutView",
            "align_content": null,
            "align_items": null,
            "align_self": null,
            "border": null,
            "bottom": null,
            "display": null,
            "flex": null,
            "flex_flow": null,
            "grid_area": null,
            "grid_auto_columns": null,
            "grid_auto_flow": null,
            "grid_auto_rows": null,
            "grid_column": null,
            "grid_gap": null,
            "grid_row": null,
            "grid_template_areas": null,
            "grid_template_columns": null,
            "grid_template_rows": null,
            "height": null,
            "justify_content": null,
            "justify_items": null,
            "left": null,
            "margin": null,
            "max_height": null,
            "max_width": null,
            "min_height": null,
            "min_width": null,
            "object_fit": null,
            "object_position": null,
            "order": null,
            "overflow": null,
            "overflow_x": null,
            "overflow_y": null,
            "padding": null,
            "right": null,
            "top": null,
            "visibility": null,
            "width": null
          }
        },
        "e51369b26f9747b09cd56c719dad569b": {
          "model_module": "@jupyter-widgets/controls",
          "model_name": "DescriptionStyleModel",
          "model_module_version": "1.5.0",
          "state": {
            "_model_module": "@jupyter-widgets/controls",
            "_model_module_version": "1.5.0",
            "_model_name": "DescriptionStyleModel",
            "_view_count": null,
            "_view_module": "@jupyter-widgets/base",
            "_view_module_version": "1.2.0",
            "_view_name": "StyleView",
            "description_width": ""
          }
        },
        "fbf2e1b6f2a44146b33d6123e7d02eb7": {
          "model_module": "@jupyter-widgets/base",
          "model_name": "LayoutModel",
          "model_module_version": "1.2.0",
          "state": {
            "_model_module": "@jupyter-widgets/base",
            "_model_module_version": "1.2.0",
            "_model_name": "LayoutModel",
            "_view_count": null,
            "_view_module": "@jupyter-widgets/base",
            "_view_module_version": "1.2.0",
            "_view_name": "LayoutView",
            "align_content": null,
            "align_items": null,
            "align_self": null,
            "border": null,
            "bottom": null,
            "display": null,
            "flex": null,
            "flex_flow": null,
            "grid_area": null,
            "grid_auto_columns": null,
            "grid_auto_flow": null,
            "grid_auto_rows": null,
            "grid_column": null,
            "grid_gap": null,
            "grid_row": null,
            "grid_template_areas": null,
            "grid_template_columns": null,
            "grid_template_rows": null,
            "height": null,
            "justify_content": null,
            "justify_items": null,
            "left": null,
            "margin": null,
            "max_height": null,
            "max_width": null,
            "min_height": null,
            "min_width": null,
            "object_fit": null,
            "object_position": null,
            "order": null,
            "overflow": null,
            "overflow_x": null,
            "overflow_y": null,
            "padding": null,
            "right": null,
            "top": null,
            "visibility": null,
            "width": null
          }
        },
        "468b4e012f7b4cbe888daae74f7f2f24": {
          "model_module": "@jupyter-widgets/controls",
          "model_name": "ProgressStyleModel",
          "model_module_version": "1.5.0",
          "state": {
            "_model_module": "@jupyter-widgets/controls",
            "_model_module_version": "1.5.0",
            "_model_name": "ProgressStyleModel",
            "_view_count": null,
            "_view_module": "@jupyter-widgets/base",
            "_view_module_version": "1.2.0",
            "_view_name": "StyleView",
            "bar_color": null,
            "description_width": ""
          }
        },
        "99ad009ccf19434694dc53d0182fa1d2": {
          "model_module": "@jupyter-widgets/base",
          "model_name": "LayoutModel",
          "model_module_version": "1.2.0",
          "state": {
            "_model_module": "@jupyter-widgets/base",
            "_model_module_version": "1.2.0",
            "_model_name": "LayoutModel",
            "_view_count": null,
            "_view_module": "@jupyter-widgets/base",
            "_view_module_version": "1.2.0",
            "_view_name": "LayoutView",
            "align_content": null,
            "align_items": null,
            "align_self": null,
            "border": null,
            "bottom": null,
            "display": null,
            "flex": null,
            "flex_flow": null,
            "grid_area": null,
            "grid_auto_columns": null,
            "grid_auto_flow": null,
            "grid_auto_rows": null,
            "grid_column": null,
            "grid_gap": null,
            "grid_row": null,
            "grid_template_areas": null,
            "grid_template_columns": null,
            "grid_template_rows": null,
            "height": null,
            "justify_content": null,
            "justify_items": null,
            "left": null,
            "margin": null,
            "max_height": null,
            "max_width": null,
            "min_height": null,
            "min_width": null,
            "object_fit": null,
            "object_position": null,
            "order": null,
            "overflow": null,
            "overflow_x": null,
            "overflow_y": null,
            "padding": null,
            "right": null,
            "top": null,
            "visibility": null,
            "width": null
          }
        },
        "53e79a1607034d2eb4fbd7dfe15ceb2c": {
          "model_module": "@jupyter-widgets/controls",
          "model_name": "DescriptionStyleModel",
          "model_module_version": "1.5.0",
          "state": {
            "_model_module": "@jupyter-widgets/controls",
            "_model_module_version": "1.5.0",
            "_model_name": "DescriptionStyleModel",
            "_view_count": null,
            "_view_module": "@jupyter-widgets/base",
            "_view_module_version": "1.2.0",
            "_view_name": "StyleView",
            "description_width": ""
          }
        },
        "eb613bfcbbc94baaa447f82572b408de": {
          "model_module": "@jupyter-widgets/controls",
          "model_name": "HBoxModel",
          "model_module_version": "1.5.0",
          "state": {
            "_dom_classes": [],
            "_model_module": "@jupyter-widgets/controls",
            "_model_module_version": "1.5.0",
            "_model_name": "HBoxModel",
            "_view_count": null,
            "_view_module": "@jupyter-widgets/controls",
            "_view_module_version": "1.5.0",
            "_view_name": "HBoxView",
            "box_style": "",
            "children": [
              "IPY_MODEL_5860f969f42e4dac8dcfd0ec08684463",
              "IPY_MODEL_99cd4d8760514a67bf783697ec23fa70",
              "IPY_MODEL_1b734fc7522040929c97f175bc0cdf98"
            ],
            "layout": "IPY_MODEL_1d44221d8aec442ba650e0e67f14fd53"
          }
        },
        "5860f969f42e4dac8dcfd0ec08684463": {
          "model_module": "@jupyter-widgets/controls",
          "model_name": "HTMLModel",
          "model_module_version": "1.5.0",
          "state": {
            "_dom_classes": [],
            "_model_module": "@jupyter-widgets/controls",
            "_model_module_version": "1.5.0",
            "_model_name": "HTMLModel",
            "_view_count": null,
            "_view_module": "@jupyter-widgets/controls",
            "_view_module_version": "1.5.0",
            "_view_name": "HTMLView",
            "description": "",
            "description_tooltip": null,
            "layout": "IPY_MODEL_440b3f67e0224b39a528056adb78c6b2",
            "placeholder": "​",
            "style": "IPY_MODEL_3d9894059af74248aef0b892908d1314",
            "value": "tokenizer.json: 100%"
          }
        },
        "99cd4d8760514a67bf783697ec23fa70": {
          "model_module": "@jupyter-widgets/controls",
          "model_name": "FloatProgressModel",
          "model_module_version": "1.5.0",
          "state": {
            "_dom_classes": [],
            "_model_module": "@jupyter-widgets/controls",
            "_model_module_version": "1.5.0",
            "_model_name": "FloatProgressModel",
            "_view_count": null,
            "_view_module": "@jupyter-widgets/controls",
            "_view_module_version": "1.5.0",
            "_view_name": "ProgressView",
            "bar_style": "success",
            "description": "",
            "description_tooltip": null,
            "layout": "IPY_MODEL_6330ea1a164f4ac98d742d9f3f6f35b0",
            "max": 466062,
            "min": 0,
            "orientation": "horizontal",
            "style": "IPY_MODEL_d1790dc88a474e0c8e1fdc02e4abcf8b",
            "value": 466062
          }
        },
        "1b734fc7522040929c97f175bc0cdf98": {
          "model_module": "@jupyter-widgets/controls",
          "model_name": "HTMLModel",
          "model_module_version": "1.5.0",
          "state": {
            "_dom_classes": [],
            "_model_module": "@jupyter-widgets/controls",
            "_model_module_version": "1.5.0",
            "_model_name": "HTMLModel",
            "_view_count": null,
            "_view_module": "@jupyter-widgets/controls",
            "_view_module_version": "1.5.0",
            "_view_name": "HTMLView",
            "description": "",
            "description_tooltip": null,
            "layout": "IPY_MODEL_35a9c65f86434a309217495c57c2f0e4",
            "placeholder": "​",
            "style": "IPY_MODEL_b623c4efea984749910bcb36b3b7b9fe",
            "value": " 466k/466k [00:00&lt;00:00, 892kB/s]"
          }
        },
        "1d44221d8aec442ba650e0e67f14fd53": {
          "model_module": "@jupyter-widgets/base",
          "model_name": "LayoutModel",
          "model_module_version": "1.2.0",
          "state": {
            "_model_module": "@jupyter-widgets/base",
            "_model_module_version": "1.2.0",
            "_model_name": "LayoutModel",
            "_view_count": null,
            "_view_module": "@jupyter-widgets/base",
            "_view_module_version": "1.2.0",
            "_view_name": "LayoutView",
            "align_content": null,
            "align_items": null,
            "align_self": null,
            "border": null,
            "bottom": null,
            "display": null,
            "flex": null,
            "flex_flow": null,
            "grid_area": null,
            "grid_auto_columns": null,
            "grid_auto_flow": null,
            "grid_auto_rows": null,
            "grid_column": null,
            "grid_gap": null,
            "grid_row": null,
            "grid_template_areas": null,
            "grid_template_columns": null,
            "grid_template_rows": null,
            "height": null,
            "justify_content": null,
            "justify_items": null,
            "left": null,
            "margin": null,
            "max_height": null,
            "max_width": null,
            "min_height": null,
            "min_width": null,
            "object_fit": null,
            "object_position": null,
            "order": null,
            "overflow": null,
            "overflow_x": null,
            "overflow_y": null,
            "padding": null,
            "right": null,
            "top": null,
            "visibility": null,
            "width": null
          }
        },
        "440b3f67e0224b39a528056adb78c6b2": {
          "model_module": "@jupyter-widgets/base",
          "model_name": "LayoutModel",
          "model_module_version": "1.2.0",
          "state": {
            "_model_module": "@jupyter-widgets/base",
            "_model_module_version": "1.2.0",
            "_model_name": "LayoutModel",
            "_view_count": null,
            "_view_module": "@jupyter-widgets/base",
            "_view_module_version": "1.2.0",
            "_view_name": "LayoutView",
            "align_content": null,
            "align_items": null,
            "align_self": null,
            "border": null,
            "bottom": null,
            "display": null,
            "flex": null,
            "flex_flow": null,
            "grid_area": null,
            "grid_auto_columns": null,
            "grid_auto_flow": null,
            "grid_auto_rows": null,
            "grid_column": null,
            "grid_gap": null,
            "grid_row": null,
            "grid_template_areas": null,
            "grid_template_columns": null,
            "grid_template_rows": null,
            "height": null,
            "justify_content": null,
            "justify_items": null,
            "left": null,
            "margin": null,
            "max_height": null,
            "max_width": null,
            "min_height": null,
            "min_width": null,
            "object_fit": null,
            "object_position": null,
            "order": null,
            "overflow": null,
            "overflow_x": null,
            "overflow_y": null,
            "padding": null,
            "right": null,
            "top": null,
            "visibility": null,
            "width": null
          }
        },
        "3d9894059af74248aef0b892908d1314": {
          "model_module": "@jupyter-widgets/controls",
          "model_name": "DescriptionStyleModel",
          "model_module_version": "1.5.0",
          "state": {
            "_model_module": "@jupyter-widgets/controls",
            "_model_module_version": "1.5.0",
            "_model_name": "DescriptionStyleModel",
            "_view_count": null,
            "_view_module": "@jupyter-widgets/base",
            "_view_module_version": "1.2.0",
            "_view_name": "StyleView",
            "description_width": ""
          }
        },
        "6330ea1a164f4ac98d742d9f3f6f35b0": {
          "model_module": "@jupyter-widgets/base",
          "model_name": "LayoutModel",
          "model_module_version": "1.2.0",
          "state": {
            "_model_module": "@jupyter-widgets/base",
            "_model_module_version": "1.2.0",
            "_model_name": "LayoutModel",
            "_view_count": null,
            "_view_module": "@jupyter-widgets/base",
            "_view_module_version": "1.2.0",
            "_view_name": "LayoutView",
            "align_content": null,
            "align_items": null,
            "align_self": null,
            "border": null,
            "bottom": null,
            "display": null,
            "flex": null,
            "flex_flow": null,
            "grid_area": null,
            "grid_auto_columns": null,
            "grid_auto_flow": null,
            "grid_auto_rows": null,
            "grid_column": null,
            "grid_gap": null,
            "grid_row": null,
            "grid_template_areas": null,
            "grid_template_columns": null,
            "grid_template_rows": null,
            "height": null,
            "justify_content": null,
            "justify_items": null,
            "left": null,
            "margin": null,
            "max_height": null,
            "max_width": null,
            "min_height": null,
            "min_width": null,
            "object_fit": null,
            "object_position": null,
            "order": null,
            "overflow": null,
            "overflow_x": null,
            "overflow_y": null,
            "padding": null,
            "right": null,
            "top": null,
            "visibility": null,
            "width": null
          }
        },
        "d1790dc88a474e0c8e1fdc02e4abcf8b": {
          "model_module": "@jupyter-widgets/controls",
          "model_name": "ProgressStyleModel",
          "model_module_version": "1.5.0",
          "state": {
            "_model_module": "@jupyter-widgets/controls",
            "_model_module_version": "1.5.0",
            "_model_name": "ProgressStyleModel",
            "_view_count": null,
            "_view_module": "@jupyter-widgets/base",
            "_view_module_version": "1.2.0",
            "_view_name": "StyleView",
            "bar_color": null,
            "description_width": ""
          }
        },
        "35a9c65f86434a309217495c57c2f0e4": {
          "model_module": "@jupyter-widgets/base",
          "model_name": "LayoutModel",
          "model_module_version": "1.2.0",
          "state": {
            "_model_module": "@jupyter-widgets/base",
            "_model_module_version": "1.2.0",
            "_model_name": "LayoutModel",
            "_view_count": null,
            "_view_module": "@jupyter-widgets/base",
            "_view_module_version": "1.2.0",
            "_view_name": "LayoutView",
            "align_content": null,
            "align_items": null,
            "align_self": null,
            "border": null,
            "bottom": null,
            "display": null,
            "flex": null,
            "flex_flow": null,
            "grid_area": null,
            "grid_auto_columns": null,
            "grid_auto_flow": null,
            "grid_auto_rows": null,
            "grid_column": null,
            "grid_gap": null,
            "grid_row": null,
            "grid_template_areas": null,
            "grid_template_columns": null,
            "grid_template_rows": null,
            "height": null,
            "justify_content": null,
            "justify_items": null,
            "left": null,
            "margin": null,
            "max_height": null,
            "max_width": null,
            "min_height": null,
            "min_width": null,
            "object_fit": null,
            "object_position": null,
            "order": null,
            "overflow": null,
            "overflow_x": null,
            "overflow_y": null,
            "padding": null,
            "right": null,
            "top": null,
            "visibility": null,
            "width": null
          }
        },
        "b623c4efea984749910bcb36b3b7b9fe": {
          "model_module": "@jupyter-widgets/controls",
          "model_name": "DescriptionStyleModel",
          "model_module_version": "1.5.0",
          "state": {
            "_model_module": "@jupyter-widgets/controls",
            "_model_module_version": "1.5.0",
            "_model_name": "DescriptionStyleModel",
            "_view_count": null,
            "_view_module": "@jupyter-widgets/base",
            "_view_module_version": "1.2.0",
            "_view_name": "StyleView",
            "description_width": ""
          }
        },
        "65ddd668dd184a2287c91ccfe6d5a246": {
          "model_module": "@jupyter-widgets/controls",
          "model_name": "HBoxModel",
          "model_module_version": "1.5.0",
          "state": {
            "_dom_classes": [],
            "_model_module": "@jupyter-widgets/controls",
            "_model_module_version": "1.5.0",
            "_model_name": "HBoxModel",
            "_view_count": null,
            "_view_module": "@jupyter-widgets/controls",
            "_view_module_version": "1.5.0",
            "_view_name": "HBoxView",
            "box_style": "",
            "children": [
              "IPY_MODEL_fdfaa1c101f041008cc010c75b09f98d",
              "IPY_MODEL_015c1f2f8ef449cc9b0efdba3b4d674b",
              "IPY_MODEL_40a737a17da84b92b0a5fb15084a3675"
            ],
            "layout": "IPY_MODEL_6f3d0156e2b5431f95dd41fdc840e3f6"
          }
        },
        "fdfaa1c101f041008cc010c75b09f98d": {
          "model_module": "@jupyter-widgets/controls",
          "model_name": "HTMLModel",
          "model_module_version": "1.5.0",
          "state": {
            "_dom_classes": [],
            "_model_module": "@jupyter-widgets/controls",
            "_model_module_version": "1.5.0",
            "_model_name": "HTMLModel",
            "_view_count": null,
            "_view_module": "@jupyter-widgets/controls",
            "_view_module_version": "1.5.0",
            "_view_name": "HTMLView",
            "description": "",
            "description_tooltip": null,
            "layout": "IPY_MODEL_8645bea92bae4a84b4ee9f4b4099bca3",
            "placeholder": "​",
            "style": "IPY_MODEL_ccb5b9931e8142279d047586a059aec0",
            "value": "config.json: 100%"
          }
        },
        "015c1f2f8ef449cc9b0efdba3b4d674b": {
          "model_module": "@jupyter-widgets/controls",
          "model_name": "FloatProgressModel",
          "model_module_version": "1.5.0",
          "state": {
            "_dom_classes": [],
            "_model_module": "@jupyter-widgets/controls",
            "_model_module_version": "1.5.0",
            "_model_name": "FloatProgressModel",
            "_view_count": null,
            "_view_module": "@jupyter-widgets/controls",
            "_view_module_version": "1.5.0",
            "_view_name": "ProgressView",
            "bar_style": "success",
            "description": "",
            "description_tooltip": null,
            "layout": "IPY_MODEL_244c1834bfed48a6a641734db105806b",
            "max": 570,
            "min": 0,
            "orientation": "horizontal",
            "style": "IPY_MODEL_e417147a8af64b799799c2b6db2b922e",
            "value": 570
          }
        },
        "40a737a17da84b92b0a5fb15084a3675": {
          "model_module": "@jupyter-widgets/controls",
          "model_name": "HTMLModel",
          "model_module_version": "1.5.0",
          "state": {
            "_dom_classes": [],
            "_model_module": "@jupyter-widgets/controls",
            "_model_module_version": "1.5.0",
            "_model_name": "HTMLModel",
            "_view_count": null,
            "_view_module": "@jupyter-widgets/controls",
            "_view_module_version": "1.5.0",
            "_view_name": "HTMLView",
            "description": "",
            "description_tooltip": null,
            "layout": "IPY_MODEL_57b76ec98a9647e08c5f80e0f3eda1ce",
            "placeholder": "​",
            "style": "IPY_MODEL_95b1ebd6ff9547a0b0304327b95d3e50",
            "value": " 570/570 [00:00&lt;00:00, 17.7kB/s]"
          }
        },
        "6f3d0156e2b5431f95dd41fdc840e3f6": {
          "model_module": "@jupyter-widgets/base",
          "model_name": "LayoutModel",
          "model_module_version": "1.2.0",
          "state": {
            "_model_module": "@jupyter-widgets/base",
            "_model_module_version": "1.2.0",
            "_model_name": "LayoutModel",
            "_view_count": null,
            "_view_module": "@jupyter-widgets/base",
            "_view_module_version": "1.2.0",
            "_view_name": "LayoutView",
            "align_content": null,
            "align_items": null,
            "align_self": null,
            "border": null,
            "bottom": null,
            "display": null,
            "flex": null,
            "flex_flow": null,
            "grid_area": null,
            "grid_auto_columns": null,
            "grid_auto_flow": null,
            "grid_auto_rows": null,
            "grid_column": null,
            "grid_gap": null,
            "grid_row": null,
            "grid_template_areas": null,
            "grid_template_columns": null,
            "grid_template_rows": null,
            "height": null,
            "justify_content": null,
            "justify_items": null,
            "left": null,
            "margin": null,
            "max_height": null,
            "max_width": null,
            "min_height": null,
            "min_width": null,
            "object_fit": null,
            "object_position": null,
            "order": null,
            "overflow": null,
            "overflow_x": null,
            "overflow_y": null,
            "padding": null,
            "right": null,
            "top": null,
            "visibility": null,
            "width": null
          }
        },
        "8645bea92bae4a84b4ee9f4b4099bca3": {
          "model_module": "@jupyter-widgets/base",
          "model_name": "LayoutModel",
          "model_module_version": "1.2.0",
          "state": {
            "_model_module": "@jupyter-widgets/base",
            "_model_module_version": "1.2.0",
            "_model_name": "LayoutModel",
            "_view_count": null,
            "_view_module": "@jupyter-widgets/base",
            "_view_module_version": "1.2.0",
            "_view_name": "LayoutView",
            "align_content": null,
            "align_items": null,
            "align_self": null,
            "border": null,
            "bottom": null,
            "display": null,
            "flex": null,
            "flex_flow": null,
            "grid_area": null,
            "grid_auto_columns": null,
            "grid_auto_flow": null,
            "grid_auto_rows": null,
            "grid_column": null,
            "grid_gap": null,
            "grid_row": null,
            "grid_template_areas": null,
            "grid_template_columns": null,
            "grid_template_rows": null,
            "height": null,
            "justify_content": null,
            "justify_items": null,
            "left": null,
            "margin": null,
            "max_height": null,
            "max_width": null,
            "min_height": null,
            "min_width": null,
            "object_fit": null,
            "object_position": null,
            "order": null,
            "overflow": null,
            "overflow_x": null,
            "overflow_y": null,
            "padding": null,
            "right": null,
            "top": null,
            "visibility": null,
            "width": null
          }
        },
        "ccb5b9931e8142279d047586a059aec0": {
          "model_module": "@jupyter-widgets/controls",
          "model_name": "DescriptionStyleModel",
          "model_module_version": "1.5.0",
          "state": {
            "_model_module": "@jupyter-widgets/controls",
            "_model_module_version": "1.5.0",
            "_model_name": "DescriptionStyleModel",
            "_view_count": null,
            "_view_module": "@jupyter-widgets/base",
            "_view_module_version": "1.2.0",
            "_view_name": "StyleView",
            "description_width": ""
          }
        },
        "244c1834bfed48a6a641734db105806b": {
          "model_module": "@jupyter-widgets/base",
          "model_name": "LayoutModel",
          "model_module_version": "1.2.0",
          "state": {
            "_model_module": "@jupyter-widgets/base",
            "_model_module_version": "1.2.0",
            "_model_name": "LayoutModel",
            "_view_count": null,
            "_view_module": "@jupyter-widgets/base",
            "_view_module_version": "1.2.0",
            "_view_name": "LayoutView",
            "align_content": null,
            "align_items": null,
            "align_self": null,
            "border": null,
            "bottom": null,
            "display": null,
            "flex": null,
            "flex_flow": null,
            "grid_area": null,
            "grid_auto_columns": null,
            "grid_auto_flow": null,
            "grid_auto_rows": null,
            "grid_column": null,
            "grid_gap": null,
            "grid_row": null,
            "grid_template_areas": null,
            "grid_template_columns": null,
            "grid_template_rows": null,
            "height": null,
            "justify_content": null,
            "justify_items": null,
            "left": null,
            "margin": null,
            "max_height": null,
            "max_width": null,
            "min_height": null,
            "min_width": null,
            "object_fit": null,
            "object_position": null,
            "order": null,
            "overflow": null,
            "overflow_x": null,
            "overflow_y": null,
            "padding": null,
            "right": null,
            "top": null,
            "visibility": null,
            "width": null
          }
        },
        "e417147a8af64b799799c2b6db2b922e": {
          "model_module": "@jupyter-widgets/controls",
          "model_name": "ProgressStyleModel",
          "model_module_version": "1.5.0",
          "state": {
            "_model_module": "@jupyter-widgets/controls",
            "_model_module_version": "1.5.0",
            "_model_name": "ProgressStyleModel",
            "_view_count": null,
            "_view_module": "@jupyter-widgets/base",
            "_view_module_version": "1.2.0",
            "_view_name": "StyleView",
            "bar_color": null,
            "description_width": ""
          }
        },
        "57b76ec98a9647e08c5f80e0f3eda1ce": {
          "model_module": "@jupyter-widgets/base",
          "model_name": "LayoutModel",
          "model_module_version": "1.2.0",
          "state": {
            "_model_module": "@jupyter-widgets/base",
            "_model_module_version": "1.2.0",
            "_model_name": "LayoutModel",
            "_view_count": null,
            "_view_module": "@jupyter-widgets/base",
            "_view_module_version": "1.2.0",
            "_view_name": "LayoutView",
            "align_content": null,
            "align_items": null,
            "align_self": null,
            "border": null,
            "bottom": null,
            "display": null,
            "flex": null,
            "flex_flow": null,
            "grid_area": null,
            "grid_auto_columns": null,
            "grid_auto_flow": null,
            "grid_auto_rows": null,
            "grid_column": null,
            "grid_gap": null,
            "grid_row": null,
            "grid_template_areas": null,
            "grid_template_columns": null,
            "grid_template_rows": null,
            "height": null,
            "justify_content": null,
            "justify_items": null,
            "left": null,
            "margin": null,
            "max_height": null,
            "max_width": null,
            "min_height": null,
            "min_width": null,
            "object_fit": null,
            "object_position": null,
            "order": null,
            "overflow": null,
            "overflow_x": null,
            "overflow_y": null,
            "padding": null,
            "right": null,
            "top": null,
            "visibility": null,
            "width": null
          }
        },
        "95b1ebd6ff9547a0b0304327b95d3e50": {
          "model_module": "@jupyter-widgets/controls",
          "model_name": "DescriptionStyleModel",
          "model_module_version": "1.5.0",
          "state": {
            "_model_module": "@jupyter-widgets/controls",
            "_model_module_version": "1.5.0",
            "_model_name": "DescriptionStyleModel",
            "_view_count": null,
            "_view_module": "@jupyter-widgets/base",
            "_view_module_version": "1.2.0",
            "_view_name": "StyleView",
            "description_width": ""
          }
        },
        "762d8f4af22d4463a90a8d6e226c006b": {
          "model_module": "@jupyter-widgets/controls",
          "model_name": "HBoxModel",
          "model_module_version": "1.5.0",
          "state": {
            "_dom_classes": [],
            "_model_module": "@jupyter-widgets/controls",
            "_model_module_version": "1.5.0",
            "_model_name": "HBoxModel",
            "_view_count": null,
            "_view_module": "@jupyter-widgets/controls",
            "_view_module_version": "1.5.0",
            "_view_name": "HBoxView",
            "box_style": "",
            "children": [
              "IPY_MODEL_07c05765af4843c49f8fed89fecfa4be",
              "IPY_MODEL_4d1de9b5198c4bdfbc7170163f816207",
              "IPY_MODEL_5a8eb8fe754a49f58202c0785fcce21b"
            ],
            "layout": "IPY_MODEL_e1f2af2f7fc84b0d8450c610a7cc0e9d"
          }
        },
        "07c05765af4843c49f8fed89fecfa4be": {
          "model_module": "@jupyter-widgets/controls",
          "model_name": "HTMLModel",
          "model_module_version": "1.5.0",
          "state": {
            "_dom_classes": [],
            "_model_module": "@jupyter-widgets/controls",
            "_model_module_version": "1.5.0",
            "_model_name": "HTMLModel",
            "_view_count": null,
            "_view_module": "@jupyter-widgets/controls",
            "_view_module_version": "1.5.0",
            "_view_name": "HTMLView",
            "description": "",
            "description_tooltip": null,
            "layout": "IPY_MODEL_254432f337684ff0b7bfe2328a729e53",
            "placeholder": "​",
            "style": "IPY_MODEL_f054eb91da72450b964ec24176defd7f",
            "value": "model.safetensors: 100%"
          }
        },
        "4d1de9b5198c4bdfbc7170163f816207": {
          "model_module": "@jupyter-widgets/controls",
          "model_name": "FloatProgressModel",
          "model_module_version": "1.5.0",
          "state": {
            "_dom_classes": [],
            "_model_module": "@jupyter-widgets/controls",
            "_model_module_version": "1.5.0",
            "_model_name": "FloatProgressModel",
            "_view_count": null,
            "_view_module": "@jupyter-widgets/controls",
            "_view_module_version": "1.5.0",
            "_view_name": "ProgressView",
            "bar_style": "success",
            "description": "",
            "description_tooltip": null,
            "layout": "IPY_MODEL_22c96cfa0c0847c28b07b800945d1a1d",
            "max": 440449768,
            "min": 0,
            "orientation": "horizontal",
            "style": "IPY_MODEL_78123e2ed6ec4fe4a9b16c1bf7915e95",
            "value": 440449768
          }
        },
        "5a8eb8fe754a49f58202c0785fcce21b": {
          "model_module": "@jupyter-widgets/controls",
          "model_name": "HTMLModel",
          "model_module_version": "1.5.0",
          "state": {
            "_dom_classes": [],
            "_model_module": "@jupyter-widgets/controls",
            "_model_module_version": "1.5.0",
            "_model_name": "HTMLModel",
            "_view_count": null,
            "_view_module": "@jupyter-widgets/controls",
            "_view_module_version": "1.5.0",
            "_view_name": "HTMLView",
            "description": "",
            "description_tooltip": null,
            "layout": "IPY_MODEL_71e3a10613004dd1b12144335e32e13a",
            "placeholder": "​",
            "style": "IPY_MODEL_ebf28fcee9ee4c48b8f94d8299a8a4b2",
            "value": " 440M/440M [00:02&lt;00:00, 180MB/s]"
          }
        },
        "e1f2af2f7fc84b0d8450c610a7cc0e9d": {
          "model_module": "@jupyter-widgets/base",
          "model_name": "LayoutModel",
          "model_module_version": "1.2.0",
          "state": {
            "_model_module": "@jupyter-widgets/base",
            "_model_module_version": "1.2.0",
            "_model_name": "LayoutModel",
            "_view_count": null,
            "_view_module": "@jupyter-widgets/base",
            "_view_module_version": "1.2.0",
            "_view_name": "LayoutView",
            "align_content": null,
            "align_items": null,
            "align_self": null,
            "border": null,
            "bottom": null,
            "display": null,
            "flex": null,
            "flex_flow": null,
            "grid_area": null,
            "grid_auto_columns": null,
            "grid_auto_flow": null,
            "grid_auto_rows": null,
            "grid_column": null,
            "grid_gap": null,
            "grid_row": null,
            "grid_template_areas": null,
            "grid_template_columns": null,
            "grid_template_rows": null,
            "height": null,
            "justify_content": null,
            "justify_items": null,
            "left": null,
            "margin": null,
            "max_height": null,
            "max_width": null,
            "min_height": null,
            "min_width": null,
            "object_fit": null,
            "object_position": null,
            "order": null,
            "overflow": null,
            "overflow_x": null,
            "overflow_y": null,
            "padding": null,
            "right": null,
            "top": null,
            "visibility": null,
            "width": null
          }
        },
        "254432f337684ff0b7bfe2328a729e53": {
          "model_module": "@jupyter-widgets/base",
          "model_name": "LayoutModel",
          "model_module_version": "1.2.0",
          "state": {
            "_model_module": "@jupyter-widgets/base",
            "_model_module_version": "1.2.0",
            "_model_name": "LayoutModel",
            "_view_count": null,
            "_view_module": "@jupyter-widgets/base",
            "_view_module_version": "1.2.0",
            "_view_name": "LayoutView",
            "align_content": null,
            "align_items": null,
            "align_self": null,
            "border": null,
            "bottom": null,
            "display": null,
            "flex": null,
            "flex_flow": null,
            "grid_area": null,
            "grid_auto_columns": null,
            "grid_auto_flow": null,
            "grid_auto_rows": null,
            "grid_column": null,
            "grid_gap": null,
            "grid_row": null,
            "grid_template_areas": null,
            "grid_template_columns": null,
            "grid_template_rows": null,
            "height": null,
            "justify_content": null,
            "justify_items": null,
            "left": null,
            "margin": null,
            "max_height": null,
            "max_width": null,
            "min_height": null,
            "min_width": null,
            "object_fit": null,
            "object_position": null,
            "order": null,
            "overflow": null,
            "overflow_x": null,
            "overflow_y": null,
            "padding": null,
            "right": null,
            "top": null,
            "visibility": null,
            "width": null
          }
        },
        "f054eb91da72450b964ec24176defd7f": {
          "model_module": "@jupyter-widgets/controls",
          "model_name": "DescriptionStyleModel",
          "model_module_version": "1.5.0",
          "state": {
            "_model_module": "@jupyter-widgets/controls",
            "_model_module_version": "1.5.0",
            "_model_name": "DescriptionStyleModel",
            "_view_count": null,
            "_view_module": "@jupyter-widgets/base",
            "_view_module_version": "1.2.0",
            "_view_name": "StyleView",
            "description_width": ""
          }
        },
        "22c96cfa0c0847c28b07b800945d1a1d": {
          "model_module": "@jupyter-widgets/base",
          "model_name": "LayoutModel",
          "model_module_version": "1.2.0",
          "state": {
            "_model_module": "@jupyter-widgets/base",
            "_model_module_version": "1.2.0",
            "_model_name": "LayoutModel",
            "_view_count": null,
            "_view_module": "@jupyter-widgets/base",
            "_view_module_version": "1.2.0",
            "_view_name": "LayoutView",
            "align_content": null,
            "align_items": null,
            "align_self": null,
            "border": null,
            "bottom": null,
            "display": null,
            "flex": null,
            "flex_flow": null,
            "grid_area": null,
            "grid_auto_columns": null,
            "grid_auto_flow": null,
            "grid_auto_rows": null,
            "grid_column": null,
            "grid_gap": null,
            "grid_row": null,
            "grid_template_areas": null,
            "grid_template_columns": null,
            "grid_template_rows": null,
            "height": null,
            "justify_content": null,
            "justify_items": null,
            "left": null,
            "margin": null,
            "max_height": null,
            "max_width": null,
            "min_height": null,
            "min_width": null,
            "object_fit": null,
            "object_position": null,
            "order": null,
            "overflow": null,
            "overflow_x": null,
            "overflow_y": null,
            "padding": null,
            "right": null,
            "top": null,
            "visibility": null,
            "width": null
          }
        },
        "78123e2ed6ec4fe4a9b16c1bf7915e95": {
          "model_module": "@jupyter-widgets/controls",
          "model_name": "ProgressStyleModel",
          "model_module_version": "1.5.0",
          "state": {
            "_model_module": "@jupyter-widgets/controls",
            "_model_module_version": "1.5.0",
            "_model_name": "ProgressStyleModel",
            "_view_count": null,
            "_view_module": "@jupyter-widgets/base",
            "_view_module_version": "1.2.0",
            "_view_name": "StyleView",
            "bar_color": null,
            "description_width": ""
          }
        },
        "71e3a10613004dd1b12144335e32e13a": {
          "model_module": "@jupyter-widgets/base",
          "model_name": "LayoutModel",
          "model_module_version": "1.2.0",
          "state": {
            "_model_module": "@jupyter-widgets/base",
            "_model_module_version": "1.2.0",
            "_model_name": "LayoutModel",
            "_view_count": null,
            "_view_module": "@jupyter-widgets/base",
            "_view_module_version": "1.2.0",
            "_view_name": "LayoutView",
            "align_content": null,
            "align_items": null,
            "align_self": null,
            "border": null,
            "bottom": null,
            "display": null,
            "flex": null,
            "flex_flow": null,
            "grid_area": null,
            "grid_auto_columns": null,
            "grid_auto_flow": null,
            "grid_auto_rows": null,
            "grid_column": null,
            "grid_gap": null,
            "grid_row": null,
            "grid_template_areas": null,
            "grid_template_columns": null,
            "grid_template_rows": null,
            "height": null,
            "justify_content": null,
            "justify_items": null,
            "left": null,
            "margin": null,
            "max_height": null,
            "max_width": null,
            "min_height": null,
            "min_width": null,
            "object_fit": null,
            "object_position": null,
            "order": null,
            "overflow": null,
            "overflow_x": null,
            "overflow_y": null,
            "padding": null,
            "right": null,
            "top": null,
            "visibility": null,
            "width": null
          }
        },
        "ebf28fcee9ee4c48b8f94d8299a8a4b2": {
          "model_module": "@jupyter-widgets/controls",
          "model_name": "DescriptionStyleModel",
          "model_module_version": "1.5.0",
          "state": {
            "_model_module": "@jupyter-widgets/controls",
            "_model_module_version": "1.5.0",
            "_model_name": "DescriptionStyleModel",
            "_view_count": null,
            "_view_module": "@jupyter-widgets/base",
            "_view_module_version": "1.2.0",
            "_view_name": "StyleView",
            "description_width": ""
          }
        }
      }
    }
  },
  "nbformat": 4,
  "nbformat_minor": 0
}